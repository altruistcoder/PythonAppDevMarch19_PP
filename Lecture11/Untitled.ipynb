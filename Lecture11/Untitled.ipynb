{
 "cells": [
  {
   "cell_type": "code",
   "execution_count": 1,
   "metadata": {},
   "outputs": [],
   "source": [
    "import pandas as pd"
   ]
  },
  {
   "cell_type": "code",
   "execution_count": 2,
   "metadata": {},
   "outputs": [],
   "source": [
    "matches_df = pd.read_csv(\"data/matches.csv\")\n",
    "deliveries_df = pd.read_csv(\"data/deliveries.csv\")"
   ]
  },
  {
   "cell_type": "code",
   "execution_count": 3,
   "metadata": {},
   "outputs": [
    {
     "data": {
      "text/plain": [
       "636"
      ]
     },
     "execution_count": 3,
     "metadata": {},
     "output_type": "execute_result"
    }
   ],
   "source": [
    "len(matches_df)"
   ]
  },
  {
   "cell_type": "code",
   "execution_count": 9,
   "metadata": {},
   "outputs": [
    {
     "data": {
      "text/plain": [
       "325"
      ]
     },
     "execution_count": 9,
     "metadata": {},
     "output_type": "execute_result"
    }
   ],
   "source": [
    "len(matches_df[matches_df['toss_winner'] == matches_df['winner']])"
   ]
  },
  {
   "cell_type": "markdown",
   "metadata": {},
   "source": [
    "\"(toss_decision == 'field' & toss_winner == winner) | (toss_decision == 'bat' & toss_winner != winner)\""
   ]
  },
  {
   "cell_type": "code",
   "execution_count": 14,
   "metadata": {},
   "outputs": [],
   "source": [
    "chase_win = matches_df.query(\"(toss_decision == 'field' & toss_winner == winner) | (toss_decision == 'bat' & toss_winner != winner)\")"
   ]
  },
  {
   "cell_type": "code",
   "execution_count": 19,
   "metadata": {},
   "outputs": [],
   "source": [
    "%matplotlib inline"
   ]
  },
  {
   "cell_type": "code",
   "execution_count": 20,
   "metadata": {},
   "outputs": [
    {
     "data": {
      "text/plain": [
       "<matplotlib.axes._subplots.AxesSubplot at 0x7fba644610f0>"
      ]
     },
     "execution_count": 20,
     "metadata": {},
     "output_type": "execute_result"
    },
    {
     "data": {
      "image/png": "[encoded data removed]",
      "text/plain": [
       "<matplotlib.figure.Figure at 0x7fba64461780>"
      ]
     },
     "metadata": {
      "needs_background": "light"
     },
     "output_type": "display_data"
    }
   ],
   "source": [
    "chase_win['winner'].value_counts().plot(kind='bar')"
   ]
  },
  {
   "cell_type": "code",
   "execution_count": 41,
   "metadata": {},
   "outputs": [
    {
     "data": {
      "text/plain": [
       "{'A Nel', 'BW Hilfenhaus', 'C Ganapathy', 'TP Sudhindra'}"
      ]
     },
     "execution_count": 41,
     "metadata": {},
     "output_type": "execute_result"
    }
   ],
   "source": [
    "set(deliveries_df['non_striker']) - set(deliveries_df['batsman'])"
   ]
  },
  {
   "cell_type": "code",
   "execution_count": 38,
   "metadata": {},
   "outputs": [
    {
     "data": {
      "text/plain": [
       "caught                   4373\n",
       "bowled                   1382\n",
       "run out                   755\n",
       "lbw                       455\n",
       "stumped                   243\n",
       "caught and bowled         211\n",
       "hit wicket                  9\n",
       "retired hurt                9\n",
       "obstructing the field       1\n",
       "Name: dismissal_kind, dtype: int64"
      ]
     },
     "execution_count": 38,
     "metadata": {},
     "output_type": "execute_result"
    }
   ],
   "source": [
    "deliveries_df['dismissal_kind'].value_counts()"
   ]
  },
  {
   "cell_type": "code",
   "execution_count": 36,
   "metadata": {},
   "outputs": [
    {
     "data": {
      "text/plain": [
       "SK Raina           37\n",
       "DA Warner          32\n",
       "RV Uthappa         32\n",
       "V Kohli            31\n",
       "CH Gayle           28\n",
       "RG Sharma          25\n",
       "YK Pathan          24\n",
       "Yuvraj Singh       22\n",
       "MS Dhoni           20\n",
       "GJ Maxwell         20\n",
       "AB de Villiers     20\n",
       "DR Smith           20\n",
       "KA Pollard         20\n",
       "V Sehwag           19\n",
       "M Vijay            16\n",
       "SV Samson          15\n",
       "AM Rahane          14\n",
       "KD Karthik         14\n",
       "MEK Hussey         14\n",
       "SR Watson          13\n",
       "DA Miller          12\n",
       "AC Gilchrist       12\n",
       "SE Marsh           12\n",
       "BB McCullum        11\n",
       "JH Kallis          10\n",
       "DJ Hussey          10\n",
       "MK Pandey           9\n",
       "PA Patel            9\n",
       "RA Jadeja           9\n",
       "AD Mathews          9\n",
       "                   ..\n",
       "SK Warne            1\n",
       "HM Amla             1\n",
       "AB McDonald         1\n",
       "ER Dwivedi          1\n",
       "CL White            1\n",
       "PD Collingwood      1\n",
       "MM Sharma           1\n",
       "T Henderson         1\n",
       "R Ashwin            1\n",
       "RR Rossouw          1\n",
       "MG Johnson          1\n",
       "Y Nagar             1\n",
       "MJ McClenaghan      1\n",
       "BJ Rohrer           1\n",
       "B Chipli            1\n",
       "JDP Oram            1\n",
       "Ishan Kishan        1\n",
       "MF Maharoof         1\n",
       "MP Stoinis          1\n",
       "SN Khan             1\n",
       "K Upadhyay          1\n",
       "AS Yadav            1\n",
       "SA Asnodkar         1\n",
       "LA Pomersbach       1\n",
       "SP Fleming          1\n",
       "AM Nayar            1\n",
       "Azhar Mahmood       1\n",
       "Gurkeerat Singh     1\n",
       "Bipul Sharma        1\n",
       "DW Steyn            1\n",
       "Name: batsman, Length: 169, dtype: int64"
      ]
     },
     "execution_count": 36,
     "metadata": {},
     "output_type": "execute_result"
    }
   ],
   "source": [
    "deliveries_df.query(\"over == 20 & batsman_runs == 6\"\n",
    "                   )['batsman'].value_counts()"
   ]
  },
  {
   "cell_type": "code",
   "execution_count": 32,
   "metadata": {},
   "outputs": [
    {
     "data": {
      "text/plain": [
       "G Gambhir           15\n",
       "S Dhawan            14\n",
       "SK Raina            12\n",
       "M Vijay             12\n",
       "YK Pathan           11\n",
       "Y Venugopal Rao     11\n",
       "A Mishra            10\n",
       "P Kumar             10\n",
       "PA Patel            10\n",
       "AT Rayudu            9\n",
       "IK Pathan            9\n",
       "KD Karthik           9\n",
       "RG Sharma            9\n",
       "AB de Villiers       9\n",
       "DPMD Jayawardene     8\n",
       "AM Nayar             8\n",
       "AM Rahane            7\n",
       "V Sehwag             7\n",
       "RV Uthappa           7\n",
       "F du Plessis         7\n",
       "SR Watson            7\n",
       "KM Jadhav            7\n",
       "EJG Morgan           7\n",
       "MS Dhoni             7\n",
       "WP Saha              6\n",
       "Harbhajan Singh      6\n",
       "R Dravid             6\n",
       "SL Malinga           6\n",
       "DA Warner            6\n",
       "MK Tiwary            6\n",
       "                    ..\n",
       "CA Lynn              1\n",
       "BCJ Cutting          1\n",
       "SN Khan              1\n",
       "AC Thomas            1\n",
       "GB Hogg              1\n",
       "SS Shaikh            1\n",
       "KS Williamson        1\n",
       "Shoaib Ahmed         1\n",
       "R Bishnoi            1\n",
       "SP Fleming           1\n",
       "CJ Jordan            1\n",
       "PA Reddy             1\n",
       "Vishnu Vinod         1\n",
       "C Nanda              1\n",
       "RR Sarwan            1\n",
       "JJ Bumrah            1\n",
       "B Akhil              1\n",
       "RE van der Merwe     1\n",
       "JR Hopes             1\n",
       "AA Noffke            1\n",
       "T Thushara           1\n",
       "Sunny Singh          1\n",
       "Mohammad Asif        1\n",
       "DJ Muthuswami        1\n",
       "DJ Harris            1\n",
       "CR Woakes            1\n",
       "WA Mota              1\n",
       "MJ Clarke            1\n",
       "PC Valthaty          1\n",
       "SS Iyer              1\n",
       "Name: player_dismissed, Length: 263, dtype: int64"
      ]
     },
     "execution_count": 32,
     "metadata": {},
     "output_type": "execute_result"
    }
   ],
   "source": [
    "deliveries_df.query(\"dismissal_kind == 'run out'\")['player_dismissed'].value_counts()"
   ]
  },
  {
   "cell_type": "code",
   "execution_count": null,
   "metadata": {},
   "outputs": [],
   "source": []
  },
  {
   "cell_type": "code",
   "execution_count": null,
   "metadata": {},
   "outputs": [],
   "source": []
  }
 ],
 "metadata": {
  "kernelspec": {
   "display_name": "Python 3",
   "language": "python",
   "name": "python3"
  },
  "language_info": {
   "codemirror_mode": {
    "name": "ipython",
    "version": 3
   },
   "file_extension": ".py",
   "mimetype": "text/x-python",
   "name": "python",
   "nbconvert_exporter": "python",
   "pygments_lexer": "ipython3",
   "version": "3.6.7"
  }
 },
 "nbformat": 4,
 "nbformat_minor": 2
}
