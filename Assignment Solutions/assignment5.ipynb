{
 "cells": [
  {
   "cell_type": "markdown",
   "metadata": {},
   "source": [
    "# Assignment 5"
   ]
  },
  {
   "cell_type": "markdown",
   "metadata": {},
   "source": [
    "Q 1. Write a generator function to iterate over first `n` fibonacci numbers."
   ]
  },
  {
   "cell_type": "code",
   "execution_count": 1,
   "metadata": {},
   "outputs": [],
   "source": [
    "# Generator Function to Generatee \"n\" Fibonacci Numbers\n",
    "def fibo_gen(n):\n",
    "    a = 0\n",
    "    b = 1\n",
    "    for i in range(1,n+1):\n",
    "        c = a+b\n",
    "        yield a\n",
    "        a = b\n",
    "        b = c"
   ]
  },
  {
   "cell_type": "code",
   "execution_count": 2,
   "metadata": {},
   "outputs": [
    {
     "name": "stdout",
     "output_type": "stream",
     "text": [
      "Enter no. of terms to be generated: 10\n"
     ]
    }
   ],
   "source": [
    "n = int(input(\"Enter no. of terms to be generated: \"))\n",
    "it = fibo_gen(n)"
   ]
  },
  {
   "cell_type": "code",
   "execution_count": 3,
   "metadata": {},
   "outputs": [
    {
     "data": {
      "text/plain": [
       "0"
      ]
     },
     "execution_count": 3,
     "metadata": {},
     "output_type": "execute_result"
    }
   ],
   "source": [
    "next(it)"
   ]
  },
  {
   "cell_type": "markdown",
   "metadata": {},
   "source": [
    " "
   ]
  },
  {
   "cell_type": "markdown",
   "metadata": {},
   "source": [
    "Q 2. Consider a list of the form:\n",
    "\t```\n",
    "\t[\n",
    "\t\t(x1, y1, z1),\n",
    "\t \t(x2, y2, z2),\n",
    "\t \t(x3, y3, z3),\n",
    "\t \t.\n",
    "\t \t.\n",
    "\t \t.\n",
    "\t \t(xn, yn, zn)\n",
    "\t ]\n",
    "\t```\n",
    "\tTransform it to following form:\n",
    "\t```\n",
    "\t[\n",
    "\t\t(x1, x2, x3, ...., xn),\n",
    "\t\t(y1, y2, y3, ...., yn),\n",
    "\t\t(z1, z2, z3, ...., zn)\n",
    "\t]"
   ]
  },
  {
   "cell_type": "code",
   "execution_count": 4,
   "metadata": {},
   "outputs": [
    {
     "name": "stdout",
     "output_type": "stream",
     "text": [
      "[('x1', 'x2', 'x3'), ('y1', 'y2', 'y3'), ('z1', 'z2', 'z3')]\n"
     ]
    }
   ],
   "source": [
    "l = [('x1', 'y1', 'z1'), ('x2', 'y2', 'z2'), ('x3', 'y3', 'z3')]\n",
    "\n",
    "# print(list(zip(l[0], l[1], l[2])))\n",
    "\n",
    "# or\n",
    "\n",
    "print(list(zip(*l)))"
   ]
  },
  {
   "cell_type": "markdown",
   "metadata": {},
   "source": [
    " "
   ]
  },
  {
   "cell_type": "markdown",
   "metadata": {},
   "source": [
    "Q 3. Write a Python program to count the frequency of words in a file."
   ]
  },
  {
   "cell_type": "code",
   "execution_count": 5,
   "metadata": {},
   "outputs": [
    {
     "name": "stdout",
     "output_type": "stream",
     "text": [
      "86\n"
     ]
    }
   ],
   "source": [
    "with open(\"sample.txt\", \"w\") as f:\n",
    "    print(f.write(\"This is a sample file. \\nWe are going to count the frequency of each word in this file.\"))"
   ]
  },
  {
   "cell_type": "code",
   "execution_count": 6,
   "metadata": {},
   "outputs": [
    {
     "name": "stdout",
     "output_type": "stream",
     "text": [
      "{'are': 1, 'frequency': 1, 'this': 1, 'count': 1, 'in': 1, 'of': 1, 'the': 1, 'a': 1, 'going': 1, 'This': 1, 'each': 1, 'to': 1, 'word': 1, 'file.': 2, 'sample': 1, 'is': 1, '\\nWe': 1}\n"
     ]
    }
   ],
   "source": [
    "w = {}\n",
    "with open(\"sample.txt\", \"r\") as f:\n",
    "    for i in f.read().split(\" \"):\n",
    "        if i not in w:\n",
    "            w[i] = 1\n",
    "        else:\n",
    "            w[i] += 1\n",
    "print(w)"
   ]
  },
  {
   "cell_type": "markdown",
   "metadata": {},
   "source": [
    " "
   ]
  },
  {
   "cell_type": "markdown",
   "metadata": {},
   "source": [
    "Q 4. Write a program which takes a text file as input and does following operations sequentially over it:\n",
    "\t- Create a list of words present in file\n",
    "\t- Convert all words to uppercase (using map)\n",
    "\t- Remove the words from list which contain 'a' (using filter)\n",
    "\t- Generate a string by concatenating all the words in the final list (using reduce)"
   ]
  },
  {
   "cell_type": "code",
   "execution_count": 7,
   "metadata": {},
   "outputs": [],
   "source": [
    "from functools import reduce"
   ]
  },
  {
   "cell_type": "code",
   "execution_count": 8,
   "metadata": {},
   "outputs": [],
   "source": [
    "def func(file):\n",
    "    words = []\n",
    "    with open(file, \"r\") as f:\n",
    "        for i in f.read().split(\" \"):\n",
    "            words.append(i)\n",
    "    \n",
    "    print(\"\\n List of words present in file:\\n {} \\n\".format(words))\n",
    "    \n",
    "    words_upper = list(map(lambda x: x.upper(), words))\n",
    "    print(\"List of Upper-Cased words: \\n {} \\n\".format(words_upper))\n",
    "    \n",
    "    words_filtered = list(filter(lambda x: x if 'a' not in x else False, words))\n",
    "    print(\"List of Filtered words: \\n {} \\n\".format(words_filtered))\n",
    "    \n",
    "    words_reduced = reduce(lambda x,y: x+\" \"+y, words)\n",
    "    print(\"String generated by reducing given list of words: \\n {} \\n\".format(words_reduced))"
   ]
  },
  {
   "cell_type": "code",
   "execution_count": 9,
   "metadata": {},
   "outputs": [
    {
     "name": "stdout",
     "output_type": "stream",
     "text": [
      "Enter the file path: sample.txt\n",
      "\n",
      " List of words present in file:\n",
      " ['This', 'is', 'a', 'sample', 'file.', '\\nWe', 'are', 'going', 'to', 'count', 'the', 'frequency', 'of', 'each', 'word', 'in', 'this', 'file.'] \n",
      "\n",
      "List of Upper-Cased words: \n",
      " ['THIS', 'IS', 'A', 'SAMPLE', 'FILE.', '\\nWE', 'ARE', 'GOING', 'TO', 'COUNT', 'THE', 'FREQUENCY', 'OF', 'EACH', 'WORD', 'IN', 'THIS', 'FILE.'] \n",
      "\n",
      "List of Filtered words: \n",
      " ['This', 'is', 'file.', '\\nWe', 'going', 'to', 'count', 'the', 'frequency', 'of', 'word', 'in', 'this', 'file.'] \n",
      "\n",
      "String generated by reducing given list of words: \n",
      " This is a sample file. \n",
      "We are going to count the frequency of each word in this file. \n",
      "\n"
     ]
    }
   ],
   "source": [
    "s = input(\"Enter the file path: \")\n",
    "func(s)"
   ]
  },
  {
   "cell_type": "markdown",
   "metadata": {},
   "source": [
    " "
   ]
  },
  {
   "cell_type": "markdown",
   "metadata": {},
   "source": [
    "Q 5. Write a Python program to print all the Sundays of a specified year."
   ]
  },
  {
   "cell_type": "code",
   "execution_count": 10,
   "metadata": {},
   "outputs": [],
   "source": [
    "from datetime import date, timedelta"
   ]
  },
  {
   "cell_type": "code",
   "execution_count": 11,
   "metadata": {},
   "outputs": [],
   "source": [
    "def find_sundays(year):\n",
    "    sun = []\n",
    "    # Assign d as the first date of the entered year\n",
    "    d = date(year, 1, 1)\n",
    "    # Finding First Sunday of the entered year and adding the time gap to the first day of the entered year\n",
    "    d += timedelta(days = 6 - d.weekday())  \n",
    "    while d.year == year:\n",
    "        sun.append(d)\n",
    "        d += timedelta(days = 7)\n",
    "    return sun"
   ]
  },
  {
   "cell_type": "code",
   "execution_count": 12,
   "metadata": {},
   "outputs": [
    {
     "name": "stdout",
     "output_type": "stream",
     "text": [
      "Enter a year: 2021\n",
      "\n",
      "List of sundays: \n",
      "\n",
      "2021-01-03\n",
      "2021-01-10\n",
      "2021-01-17\n",
      "2021-01-24\n",
      "2021-01-31\n",
      "2021-02-07\n",
      "2021-02-14\n",
      "2021-02-21\n",
      "2021-02-28\n",
      "2021-03-07\n",
      "2021-03-14\n",
      "2021-03-21\n",
      "2021-03-28\n",
      "2021-04-04\n",
      "2021-04-11\n",
      "2021-04-18\n",
      "2021-04-25\n",
      "2021-05-02\n",
      "2021-05-09\n",
      "2021-05-16\n",
      "2021-05-23\n",
      "2021-05-30\n",
      "2021-06-06\n",
      "2021-06-13\n",
      "2021-06-20\n",
      "2021-06-27\n",
      "2021-07-04\n",
      "2021-07-11\n",
      "2021-07-18\n",
      "2021-07-25\n",
      "2021-08-01\n",
      "2021-08-08\n",
      "2021-08-15\n",
      "2021-08-22\n",
      "2021-08-29\n",
      "2021-09-05\n",
      "2021-09-12\n",
      "2021-09-19\n",
      "2021-09-26\n",
      "2021-10-03\n",
      "2021-10-10\n",
      "2021-10-17\n",
      "2021-10-24\n",
      "2021-10-31\n",
      "2021-11-07\n",
      "2021-11-14\n",
      "2021-11-21\n",
      "2021-11-28\n",
      "2021-12-05\n",
      "2021-12-12\n",
      "2021-12-19\n",
      "2021-12-26\n"
     ]
    }
   ],
   "source": [
    "y = int(input(\"Enter a year: \"))\n",
    "sundays = find_sundays(y)\n",
    "print(\"\\nList of sundays: \\n\")\n",
    "for i in sundays:\n",
    "    print(i)"
   ]
  },
  {
   "cell_type": "markdown",
   "metadata": {},
   "source": [
    " "
   ]
  },
  {
   "cell_type": "markdown",
   "metadata": {},
   "source": [
    "Q 6. Write a Python class to get all possible unique subsets from a set of distinct integers.\n",
    "\t```\n",
    "\tInput : [4, 5, 6]\n",
    "\tOutput : [[], [6], [5], [5, 6], [4], [4, 6], [4, 5], [4, 5, 6]]\n",
    "\t```"
   ]
  },
  {
   "cell_type": "code",
   "execution_count": 13,
   "metadata": {},
   "outputs": [],
   "source": [
    "from itertools import combinations\n",
    "\n",
    "\n",
    "class Unique_Subsets:\n",
    "    def __init__(self):\n",
    "        self.r = []\n",
    "        \n",
    "    def find_unique_subsets(self, l):\n",
    "        for i in range(0, len(l)+1):\n",
    "            self.r.extend([list(i) for i in list(combinations(l, i))])\n",
    "        print(self.r)"
   ]
  },
  {
   "cell_type": "code",
   "execution_count": 14,
   "metadata": {},
   "outputs": [
    {
     "name": "stdout",
     "output_type": "stream",
     "text": [
      "Enter a list of elements: 4 5 6\n",
      "[[], [4], [5], [6], [4, 5], [4, 6], [5, 6], [4, 5, 6]]\n"
     ]
    }
   ],
   "source": [
    "l = list(map(int, input(\"Enter a list of elements: \").split()))\n",
    "u = Unique_Subsets()\n",
    "u.find_unique_subsets(l)"
   ]
  },
  {
   "cell_type": "code",
   "execution_count": null,
   "metadata": {},
   "outputs": [],
   "source": []
  }
 ],
 "metadata": {
  "kernelspec": {
   "display_name": "Python 3",
   "language": "python",
   "name": "python3"
  },
  "language_info": {
   "codemirror_mode": {
    "name": "ipython",
    "version": 3
   },
   "file_extension": ".py",
   "mimetype": "text/x-python",
   "name": "python",
   "nbconvert_exporter": "python",
   "pygments_lexer": "ipython3",
   "version": "3.5.2"
  }
 },
 "nbformat": 4,
 "nbformat_minor": 2
}
