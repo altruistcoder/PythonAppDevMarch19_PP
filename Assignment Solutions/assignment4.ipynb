{
 "cells": [
  {
   "cell_type": "markdown",
   "metadata": {},
   "source": [
    "# Assignment 4"
   ]
  },
  {
   "cell_type": "markdown",
   "metadata": {},
   "source": [
    "Q 1. Explore the `os` module in Python and write a Python program to:\n",
    "\t- List all files in a folder entered by user.\n",
    "\t- Rename any given file in the specified folder"
   ]
  },
  {
   "cell_type": "code",
   "execution_count": 1,
   "metadata": {},
   "outputs": [],
   "source": [
    "import os"
   ]
  },
  {
   "cell_type": "code",
   "execution_count": 4,
   "metadata": {},
   "outputs": [
    {
     "name": "stdout",
     "output_type": "stream",
     "text": [
      "Enter the path of the folder: ./Basics-of-Python-master\n"
     ]
    },
    {
     "data": {
      "text/plain": [
       "['.gitignore',\n",
       " '.ipynb_checkpoints',\n",
       " '0. Intro.pdf',\n",
       " '1. Basics.ipynb',\n",
       " '2. Operators and expressions.ipynb',\n",
       " '3. Control flow.ipynb',\n",
       " '4. Functions.ipynb',\n",
       " '5. Data structures.ipynb',\n",
       " '6. Modules.ipynb',\n",
       " '7. OOP.ipynb',\n",
       " '8. File-Handling.ipynb',\n",
       " '9.BuiltIn-Functions.ipynb',\n",
       " 'Epilogue.ipynb',\n",
       " 'images',\n",
       " 'README.md']"
      ]
     },
     "execution_count": 4,
     "metadata": {},
     "output_type": "execute_result"
    }
   ],
   "source": [
    "p = input(\"Enter the path of the folder: \")\n",
    "os.listdir(p)"
   ]
  },
  {
   "cell_type": "code",
   "execution_count": 10,
   "metadata": {},
   "outputs": [
    {
     "name": "stdout",
     "output_type": "stream",
     "text": [
      "Enter path of source file: assignment3.ipynb\n",
      "Enter New Name of file: abc.ipynb\n"
     ]
    }
   ],
   "source": [
    "src = input(\"Enter path of source file: \")\n",
    "des = input(\"Enter New Name of file: \")\n",
    "os.rename(src, des)"
   ]
  },
  {
   "cell_type": "markdown",
   "metadata": {},
   "source": [
    " "
   ]
  },
  {
   "cell_type": "markdown",
   "metadata": {},
   "source": [
    "Q 2. Explore the random module and create a number guessing game using it."
   ]
  },
  {
   "cell_type": "code",
   "execution_count": 35,
   "metadata": {},
   "outputs": [
    {
     "name": "stdout",
     "output_type": "stream",
     "text": [
      "Guess a number between 1 and 100: 50\n",
      "Too Low value guessed. Try once more.\n",
      "Guess a number between 1 and 100: 75\n",
      "Too Low value guessed. Try once more.\n",
      "Guess a number between 1 and 100: 80\n",
      "Too Low value guessed. Try once more.\n",
      "Guess a number between 1 and 100: 90\n",
      "Too High value guessed. Try once more.\n",
      "Guess a number between 1 and 100: 85\n",
      "Too High value guessed. Try once more.\n",
      "Guess a number between 1 and 100: 83\n",
      "Too High value guessed. Try once more.\n",
      "Guess a number between 1 and 100: 82\n",
      "That's Right!\n",
      "Congratulations! YOU WON\n"
     ]
    }
   ],
   "source": [
    "import random\n",
    "\n",
    "r_num = random.randint(1, 100)\n",
    "attempts = 7\n",
    "f = False\n",
    "\n",
    "for _ in range(attempts):\n",
    "    guess = int(input(\"Guess a number between 1 and 100: \"))\n",
    "    attempts -= 1\n",
    "    if guess == r_num:\n",
    "        print(\"That's Right!\")\n",
    "        print(\"Congratulations! YOU WON\")\n",
    "        f = True\n",
    "        break\n",
    "    elif guess > r_num:\n",
    "        print(\"Too High value guessed. Try once more.\")\n",
    "    else:\n",
    "        print(\"Too Low value guessed. Try once more.\")\n",
    "if not f:\n",
    "    print(\"The number to guess was\", r_num)\n",
    "    print(\"YOU LOSE!\")\n"
   ]
  },
  {
   "cell_type": "markdown",
   "metadata": {},
   "source": [
    " "
   ]
  },
  {
   "cell_type": "markdown",
   "metadata": {},
   "source": [
    "Q 3. Write a Python class named `Circle` constructed by a radius and two methods which will compute the area and the perimeter of a circle. Also write functions to compare 2 circles on the basis of their radius."
   ]
  },
  {
   "cell_type": "code",
   "execution_count": 36,
   "metadata": {},
   "outputs": [],
   "source": [
    "from math import pi\n",
    "\n",
    "\n",
    "class Circle:\n",
    "    def __init__(self, radius):\n",
    "        self.radius = radius\n",
    "    def perimeter(self):\n",
    "        print(\"Perimeter of Circle:\", 2*pi*self.radius)\n",
    "    def area(self):\n",
    "        print(\"Area of Circle:\", pi*self.radius*self.radius)\n",
    "    def compare(self, other):\n",
    "        if self.radius == other.radius:\n",
    "            print(\"Circle 1 Equal in Area to Circle 2\")\n",
    "        elif self.radius < other.radius:\n",
    "            print(\"Circle 1 Smaller than Circle 2\")\n",
    "        else:\n",
    "            print(\"Circle 1 Larger than Circle 2\")"
   ]
  },
  {
   "cell_type": "code",
   "execution_count": 37,
   "metadata": {},
   "outputs": [],
   "source": [
    "c1 = Circle(2)"
   ]
  },
  {
   "cell_type": "code",
   "execution_count": 38,
   "metadata": {},
   "outputs": [
    {
     "name": "stdout",
     "output_type": "stream",
     "text": [
      "Perimeter of Circle: 12.566370614359172\n"
     ]
    }
   ],
   "source": [
    "c1.perimeter()"
   ]
  },
  {
   "cell_type": "code",
   "execution_count": 39,
   "metadata": {},
   "outputs": [
    {
     "name": "stdout",
     "output_type": "stream",
     "text": [
      "Area of Circle: 12.566370614359172\n"
     ]
    }
   ],
   "source": [
    "c1.area()"
   ]
  },
  {
   "cell_type": "code",
   "execution_count": 40,
   "metadata": {},
   "outputs": [],
   "source": [
    "c2 = Circle(4)"
   ]
  },
  {
   "cell_type": "code",
   "execution_count": 41,
   "metadata": {},
   "outputs": [
    {
     "name": "stdout",
     "output_type": "stream",
     "text": [
      "Perimeter of Circle: 25.132741228718345\n"
     ]
    }
   ],
   "source": [
    "c2.perimeter()"
   ]
  },
  {
   "cell_type": "code",
   "execution_count": 42,
   "metadata": {},
   "outputs": [
    {
     "name": "stdout",
     "output_type": "stream",
     "text": [
      "Area of Circle: 50.26548245743669\n"
     ]
    }
   ],
   "source": [
    "c2.area()"
   ]
  },
  {
   "cell_type": "code",
   "execution_count": 27,
   "metadata": {},
   "outputs": [
    {
     "name": "stdout",
     "output_type": "stream",
     "text": [
      "Circle 1 Smaller than Circle 2\n"
     ]
    }
   ],
   "source": [
    "c1.compare(c2)"
   ]
  },
  {
   "cell_type": "code",
   "execution_count": null,
   "metadata": {},
   "outputs": [],
   "source": []
  },
  {
   "cell_type": "code",
   "execution_count": null,
   "metadata": {},
   "outputs": [],
   "source": []
  },
  {
   "cell_type": "code",
   "execution_count": null,
   "metadata": {},
   "outputs": [],
   "source": []
  }
 ],
 "metadata": {
  "kernelspec": {
   "display_name": "Python 3",
   "language": "python",
   "name": "python3"
  },
  "language_info": {
   "codemirror_mode": {
    "name": "ipython",
    "version": 3
   },
   "file_extension": ".py",
   "mimetype": "text/x-python",
   "name": "python",
   "nbconvert_exporter": "python",
   "pygments_lexer": "ipython3",
   "version": "3.5.2"
  }
 },
 "nbformat": 4,
 "nbformat_minor": 2
}
