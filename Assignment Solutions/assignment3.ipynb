{
 "cells": [
  {
   "cell_type": "markdown",
   "metadata": {},
   "source": [
    "# Assignment 3"
   ]
  },
  {
   "cell_type": "markdown",
   "metadata": {},
   "source": [
    "Q 1. Write a Python program to accept a filename from the user and print the extension of that.\n",
    "    ```\n",
    "    Sample filename : abc.java \n",
    "    Output : java\n",
    "    ```"
   ]
  },
  {
   "cell_type": "code",
   "execution_count": 1,
   "metadata": {},
   "outputs": [
    {
     "name": "stdout",
     "output_type": "stream",
     "text": [
      "Enter a filename: abc.java\n",
      "Extension of given file name: java\n"
     ]
    }
   ],
   "source": [
    "# file_name = input(\"Enter a filename: \").split(\".\")\n",
    "# print(\"Extension of given file name:\", file_name[-1])\n",
    "\n",
    "# or \n",
    "\n",
    "print(\"Extension of given file name:\", input(\"Enter a filename: \").split(\".\")[-1])"
   ]
  },
  {
   "cell_type": "markdown",
   "metadata": {},
   "source": [
    " "
   ]
  },
  {
   "cell_type": "markdown",
   "metadata": {},
   "source": [
    "Q 2. Write a Python program to concatenate all elements in a list into a string and return it.\n",
    "    ```\n",
    "    Sample input : ['a', 'b', 'c', 'd']\n",
    "    Output : 'abcd'\n",
    "    ```"
   ]
  },
  {
   "cell_type": "code",
   "execution_count": 2,
   "metadata": {},
   "outputs": [
    {
     "name": "stdout",
     "output_type": "stream",
     "text": [
      "Enter a list: a b c d\n",
      "abcd\n"
     ]
    }
   ],
   "source": [
    "# l = list(input(\"Enter a list: \").split())\n",
    "# print(\"\".join(l))\n",
    "\n",
    "# or\n",
    "\n",
    "print(\"\".join(input(\"Enter a list: \").split()))"
   ]
  },
  {
   "cell_type": "markdown",
   "metadata": {},
   "source": [
    " "
   ]
  },
  {
   "cell_type": "markdown",
   "metadata": {},
   "source": [
    "Q 3. Write a Python program which accepts a sequence of comma-separated numbers from user and generate a list and a tuple with those numbers.\n",
    "    ```\n",
    "    Sample data : 3, 5, 7, 23\n",
    "    Output : \n",
    "    List : ['3', ' 5', ' 7', ' 23'] \n",
    "    Tuple : ('3', ' 5', ' 7', ' 23')\n",
    "    ```"
   ]
  },
  {
   "cell_type": "code",
   "execution_count": 3,
   "metadata": {},
   "outputs": [
    {
     "name": "stdout",
     "output_type": "stream",
     "text": [
      "Enter the numbers: 1,2,3,4\n",
      "List: ['1', '2', '3', '4']\n",
      "Tuple: ('1', '2', '3', '4')\n"
     ]
    }
   ],
   "source": [
    "l = list(input(\"Enter the numbers: \").split(','))\n",
    "print(\"List:\", l)\n",
    "print(\"Tuple:\", tuple(l))"
   ]
  },
  {
   "cell_type": "markdown",
   "metadata": {},
   "source": [
    " "
   ]
  },
  {
   "cell_type": "markdown",
   "metadata": {},
   "source": [
    "Q 4. Write a Python program to print all even numbers from a given numbers list in the same order and stop the printing if any numbers that come after 237 in the sequence."
   ]
  },
  {
   "cell_type": "code",
   "execution_count": 4,
   "metadata": {},
   "outputs": [
    {
     "name": "stdout",
     "output_type": "stream",
     "text": [
      "Enter a list of numbers: 1 2 3 4 5 6 7 8 237 3 65 67 3 43 54\n",
      "2\n",
      "4\n",
      "6\n",
      "8\n",
      "237\n"
     ]
    }
   ],
   "source": [
    "l = list(map(int, input(\"Enter a list of numbers: \").split()))\n",
    "for i in l:\n",
    "    if i == 237:\n",
    "        print(i)\n",
    "        break\n",
    "    elif i%2==0:\n",
    "        print(i)"
   ]
  },
  {
   "cell_type": "markdown",
   "metadata": {},
   "source": [
    " "
   ]
  },
  {
   "cell_type": "markdown",
   "metadata": {},
   "source": [
    "Q 5. Write a Python function to find all distinct pair of numbers whose product is odd from a sequence of integer values."
   ]
  },
  {
   "cell_type": "code",
   "execution_count": 5,
   "metadata": {},
   "outputs": [
    {
     "name": "stdout",
     "output_type": "stream",
     "text": [
      "Enter a list of numbers: 1 2 1 2 3 4 5\n",
      "[(1, 1), (1, 3), (1, 5), (3, 3), (3, 5), (5, 5)]\n"
     ]
    }
   ],
   "source": [
    "l = list(set(map(int, input(\"Enter a list of numbers: \").split())))\n",
    "r = []\n",
    "for i in range(len(l)):\n",
    "    for j in range(i, len(l)):\n",
    "        if l[i]*l[j] % 2 ==1 and (l[i],l[j]) not in r:\n",
    "                r.append((l[i],l[j]))\n",
    "print(r)"
   ]
  },
  {
   "cell_type": "markdown",
   "metadata": {},
   "source": [
    " "
   ]
  },
  {
   "cell_type": "markdown",
   "metadata": {},
   "source": [
    "Q 6. Solve this problem: https://www.hackerrank.com/challenges/find-second-maximum-number-in-a-list/"
   ]
  },
  {
   "cell_type": "code",
   "execution_count": 6,
   "metadata": {},
   "outputs": [
    {
     "name": "stdout",
     "output_type": "stream",
     "text": [
      "1 2 3 4 5 6 7 5 6 7 8\n",
      "Second maximum number in a list: 7\n"
     ]
    }
   ],
   "source": [
    "# First Method to Solve:\n",
    "\n",
    "# a = list(map(int, input().split()))\n",
    "# a = list(set(a))\n",
    "# a.sort(reverse=True)\n",
    "# print(\"Second maximum number in a list:\", a[1])\n",
    "\n",
    "# Second Method to Solve (Efficient Solution):\n",
    "\n",
    "import sys\n",
    "a = list(map(int, input().split()))\n",
    "if len(a)<2: \n",
    "    print(\" Invalid Input \")  \n",
    "first = second = -sys.maxsize \n",
    "for i in range(len(a)):\n",
    "    if a[i] > first: \n",
    "        second = first \n",
    "        first = a[i] \n",
    "    elif a[i] > second and a[i]!=first:\n",
    "        second = a[i] \n",
    "print(\"Second maximum number in a list:\", second)"
   ]
  },
  {
   "cell_type": "markdown",
   "metadata": {},
   "source": [
    " "
   ]
  },
  {
   "cell_type": "markdown",
   "metadata": {},
   "source": [
    "Q 7. Write a recursive function to print all possible strings of length k that can be formed from a set of n characters."
   ]
  },
  {
   "cell_type": "code",
   "execution_count": 7,
   "metadata": {},
   "outputs": [
    {
     "name": "stdout",
     "output_type": "stream",
     "text": [
      "Enter the characters: a b\n",
      "Enter the value of K: 4\n",
      "\n",
      "All possible strings of length K are: \n",
      "\n",
      "aaaa\n",
      "aaab\n",
      "aaba\n",
      "aabb\n",
      "abaa\n",
      "abab\n",
      "abba\n",
      "abbb\n",
      "baaa\n",
      "baab\n",
      "baba\n",
      "babb\n",
      "bbaa\n",
      "bbab\n",
      "bbba\n",
      "bbbb\n"
     ]
    }
   ],
   "source": [
    "def generate_str(s):\n",
    "    if len(s) == k:\n",
    "        print(s)\n",
    "        return\n",
    "    \n",
    "    for char in chars:\n",
    "        generate_str(s+char)\n",
    "\n",
    "chars = list(input(\"Enter the characters: \").split())\n",
    "k = int(input(\"Enter the value of K: \"))\n",
    "print(\"\\nAll possible strings of length K are: \\n\")\n",
    "generate_str('')"
   ]
  },
  {
   "cell_type": "markdown",
   "metadata": {},
   "source": [
    " "
   ]
  },
  {
   "cell_type": "markdown",
   "metadata": {},
   "source": [
    "Q 8. Write a simple Python program which inputs and stores the data about university students as a list of dictionaries. Your final record structure should look like this:\n",
    "    ```\n",
    "     [\n",
    "         {\n",
    "             'roll-no': 1211,\n",
    "             'name': 'Ravi',\n",
    "             'branch': 'CSE'\n",
    "         },\n",
    "         {\n",
    "             'roll-no': 202,\n",
    "             'name': 'Abhishek',\n",
    "             'branch': 'SE'\n",
    "         },\n",
    "         {\n",
    "             'roll-no': 1202,\n",
    "             'name': 'Sachin',\n",
    "             'branch': 'IT'\n",
    "         }\n",
    "     ]\n",
    "    ```"
   ]
  },
  {
   "cell_type": "code",
   "execution_count": 8,
   "metadata": {},
   "outputs": [
    {
     "name": "stdout",
     "output_type": "stream",
     "text": [
      "Enter number of records: 3\n",
      "Enter roll-no of Student: 111\n",
      "Enter name of Student: Adam\n",
      "Enter branch of Student: CSE\n",
      "Enter roll-no of Student: 114\n",
      "Enter name of Student: Peter\n",
      "Enter branch of Student: EEE\n",
      "Enter roll-no of Student: 140\n",
      "Enter name of Student: Justin\n",
      "Enter branch of Student: CSE\n",
      "\n",
      "Student Record: \n",
      "\n",
      "[{'branch': 'CSE', 'name': 'Adam', 'roll-no': 111}, {'branch': 'EEE', 'name': 'Peter', 'roll-no': 114}, {'branch': 'CSE', 'name': 'Justin', 'roll-no': 140}]\n"
     ]
    }
   ],
   "source": [
    "l = []\n",
    "for i in range(int(input(\"Enter number of records: \"))):\n",
    "    d = {}\n",
    "    d['roll-no'] = int(input(\"Enter roll-no of Student: \"))\n",
    "    d['name'] = input(\"Enter name of Student: \")\n",
    "    d['branch'] = input(\"Enter branch of Student: \")\n",
    "    l.append(d)\n",
    "print()\n",
    "print(\"Student Record: \", l, sep=\"\\n\\n\")"
   ]
  },
  {
   "cell_type": "markdown",
   "metadata": {},
   "source": [
    "  "
   ]
  },
  {
   "cell_type": "markdown",
   "metadata": {},
   "source": [
    "Q 9. Solve the following subdomains on hackerrank:\n",
    "    - https://www.hackerrank.com/domains/python/py-introduction\n",
    "    - https://www.hackerrank.com/domains/python/py-basic-data-types\n",
    "    - https://www.hackerrank.com/domains/python/py-strings\n",
    "    - https://www.hackerrank.com/domains/python/py-sets"
   ]
  },
  {
   "cell_type": "code",
   "execution_count": null,
   "metadata": {},
   "outputs": [],
   "source": []
  },
  {
   "cell_type": "code",
   "execution_count": null,
   "metadata": {},
   "outputs": [],
   "source": []
  }
 ],
 "metadata": {
  "kernelspec": {
   "display_name": "Python 3",
   "language": "python",
   "name": "python3"
  },
  "language_info": {
   "codemirror_mode": {
    "name": "ipython",
    "version": 3
   },
   "file_extension": ".py",
   "mimetype": "text/x-python",
   "name": "python",
   "nbconvert_exporter": "python",
   "pygments_lexer": "ipython3",
   "version": "3.5.2"
  }
 },
 "nbformat": 4,
 "nbformat_minor": 2
}
