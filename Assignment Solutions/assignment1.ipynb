{
 "cells": [
  {
   "cell_type": "markdown",
   "metadata": {},
   "source": [
    "# Assignment 1"
   ]
  },
  {
   "cell_type": "markdown",
   "metadata": {},
   "source": [
    "Q 1. Solve these questions:\n",
    "\t- https://www.hackerrank.com/challenges/py-hello-world\n",
    "\t- https://www.hackerrank.com/challenges/python-arithmetic-operators\n",
    "\t- https://www.hackerrank.com/challenges/python-division"
   ]
  },
  {
   "cell_type": "markdown",
   "metadata": {},
   "source": [
    " "
   ]
  },
  {
   "cell_type": "markdown",
   "metadata": {},
   "source": [
    "Q 2. Write a python program to find area and perimeter of a rectangle of given length and breadth."
   ]
  },
  {
   "cell_type": "code",
   "execution_count": 1,
   "metadata": {},
   "outputs": [
    {
     "name": "stdout",
     "output_type": "stream",
     "text": [
      "Enter Length of Rectangle: 10\n",
      "Enter Breadth of Rectangle: 20\n",
      "Area of Rectangle: 200\n",
      "Perimeter of Rectangle: 60\n"
     ]
    }
   ],
   "source": [
    "l = int(input(\"Enter Length of Rectangle: \"))\n",
    "b = int(input(\"Enter Breadth of Rectangle: \"))\n",
    "print(\"Area of Rectangle:\", l*b)\n",
    "print(\"Perimeter of Rectangle:\", 2*(l+b))\n"
   ]
  },
  {
   "cell_type": "markdown",
   "metadata": {},
   "source": [
    " "
   ]
  },
  {
   "cell_type": "markdown",
   "metadata": {},
   "source": [
    "Q 3. Create a program that asks the user to enter their name and their age. Print out a message addressed to them that tells them the year that they will turn 100 years old.\n",
    "\n",
    "Sample:\n",
    "```\n",
    "Enter your name: Nikhil\n",
    "Enter your age: 21\n",
    "\n",
    "Hi Nikhil, you will be 100 years old in 2097.\n",
    "```"
   ]
  },
  {
   "cell_type": "code",
   "execution_count": 4,
   "metadata": {},
   "outputs": [
    {
     "name": "stdout",
     "output_type": "stream",
     "text": [
      "Enter your name: Adam\n",
      "Enter your age: 21\n",
      "Hi Adam, you will be 100 years old in 2097.\n",
      "Hi Adam, you will be 100 years old in 2097.\n",
      "Hi Adam, you will be 100 years old in 2097.\n"
     ]
    }
   ],
   "source": [
    "name = input(\"Enter your name: \")\n",
    "age = int(input(\"Enter your age: \"))\n",
    "\n",
    "# Below are three ways of printing the required solution:\n",
    "\n",
    "print(\"Hi \", name, \", you will be 100 years old in \", 2118-age, \".\", sep=\"\")\n",
    "print(\"Hi {1}, you will be 100 years old in {0}.\".format(2118-age, name))\n",
    "print(\"Hi %s, you will be 100 years old in %d.\" % (name, 2118-age))"
   ]
  },
  {
   "cell_type": "markdown",
   "metadata": {},
   "source": [
    " "
   ]
  },
  {
   "cell_type": "markdown",
   "metadata": {},
   "source": [
    "Q 4. Go through this cmd cheatsheet: http://www.cs.columbia.edu/~sedwards/classes/2015/1102-fall/Command%20Prompt%20Cheatsheet.pdf"
   ]
  },
  {
   "cell_type": "markdown",
   "metadata": {},
   "source": [
    " "
   ]
  }
 ],
 "metadata": {
  "kernelspec": {
   "display_name": "Python 3",
   "language": "python",
   "name": "python3"
  },
  "language_info": {
   "codemirror_mode": {
    "name": "ipython",
    "version": 3
   },
   "file_extension": ".py",
   "mimetype": "text/x-python",
   "name": "python",
   "nbconvert_exporter": "python",
   "pygments_lexer": "ipython3",
   "version": "3.5.2"
  }
 },
 "nbformat": 4,
 "nbformat_minor": 2
}
