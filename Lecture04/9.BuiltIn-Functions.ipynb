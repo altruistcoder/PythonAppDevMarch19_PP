{
 "cells": [
  {
   "cell_type": "markdown",
   "metadata": {},
   "source": [
    "# ***<center>Important built-in functions</center>***\n",
    "<img src=http://s2.quickmeme.com/img/2d/2ddc7d5b4e7d6ee47bfd5b33acf3a1201b49877a4163d5f49ee5ba05685ccaae.jpg height=400 width=400>"
   ]
  },
  {
   "cell_type": "markdown",
   "metadata": {},
   "source": [
    "## 1. sort\n",
    "\n",
    "<img src=http://s2.quickmeme.com/img/96/963e77d9824553104fd63cb3cbcd81867a61672d89482bc7a492aaa8f6935449.jpg height=400 width=400>\n",
    "\n",
    "- In place sorting: __iterable__.sort()\n",
    "    \n",
    "    \n",
    "- Return a sorted iterable: sorted(__iterable__)\n",
    "\n",
    "\n",
    "- Two optional arguments: **key** and **reverse**.\n",
    "    - ***key***: specifies a **function of one argument** that is used to extract a **comparison key** from each list element\n",
    "    - ***reverse***: A boolean value. If set to True, then the list elements are sorted as if each comparison were reversed."
   ]
  },
  {
   "cell_type": "code",
   "execution_count": null,
   "metadata": {},
   "outputs": [],
   "source": []
  },
  {
   "cell_type": "markdown",
   "metadata": {},
   "source": [
    "## 2. enumerate\n",
    "\n",
    "```python\n",
    "enumerate(iterable)\n",
    "```\n",
    "\n",
    "Returns a tuple containing a count (from start which defaults to 0) and the values obtained from iterating over the iterable."
   ]
  },
  {
   "cell_type": "code",
   "execution_count": 1,
   "metadata": {},
   "outputs": [],
   "source": [
    "data = ['ram', 'ravi', 'hhh']"
   ]
  },
  {
   "cell_type": "code",
   "execution_count": 2,
   "metadata": {},
   "outputs": [
    {
     "name": "stdout",
     "output_type": "stream",
     "text": [
      "0 ram\n",
      "1 ravi\n",
      "2 hhh\n"
     ]
    }
   ],
   "source": [
    "for i in range(len(data)):\n",
    "    print(i, data[i])"
   ]
  },
  {
   "cell_type": "code",
   "execution_count": 3,
   "metadata": {},
   "outputs": [
    {
     "data": {
      "text/plain": [
       "[(0, 'ram'), (1, 'ravi'), (2, 'hhh')]"
      ]
     },
     "execution_count": 3,
     "metadata": {},
     "output_type": "execute_result"
    }
   ],
   "source": [
    "list(enumerate(data))"
   ]
  },
  {
   "cell_type": "code",
   "execution_count": 4,
   "metadata": {},
   "outputs": [
    {
     "name": "stdout",
     "output_type": "stream",
     "text": [
      "0 ram\n",
      "1 ravi\n",
      "2 hhh\n"
     ]
    }
   ],
   "source": [
    "for idx, name in enumerate(data):\n",
    "    print(idx, name)"
   ]
  },
  {
   "cell_type": "markdown",
   "metadata": {},
   "source": [
    "## 3. zip\n",
    "\n",
    "Make an iterator that aggregates elements from each of the iterables.\n",
    "\n",
    "![](http://s2.quickmeme.com/img/56/568cf8f60a23bea949f5bc0143607934e7fd8a7e5d0f5c44b86fc12c1ffb8185.jpg)"
   ]
  },
  {
   "cell_type": "code",
   "execution_count": 5,
   "metadata": {},
   "outputs": [],
   "source": [
    "names = ['Ram', 'Shyam', 'Ravi', 'Mohan']\n",
    "scores = [3,4,5,2]"
   ]
  },
  {
   "cell_type": "code",
   "execution_count": 6,
   "metadata": {},
   "outputs": [
    {
     "name": "stdout",
     "output_type": "stream",
     "text": [
      "Ram 3\n",
      "Shyam 4\n",
      "Ravi 5\n",
      "Mohan 2\n"
     ]
    }
   ],
   "source": [
    "for i in range(len(names)):\n",
    "    print(names[i], scores[i])"
   ]
  },
  {
   "cell_type": "code",
   "execution_count": 7,
   "metadata": {},
   "outputs": [
    {
     "data": {
      "text/plain": [
       "[('Ram', 3), ('Shyam', 4), ('Ravi', 5), ('Mohan', 2)]"
      ]
     },
     "execution_count": 7,
     "metadata": {},
     "output_type": "execute_result"
    }
   ],
   "source": [
    "list(zip(names, scores))"
   ]
  },
  {
   "cell_type": "code",
   "execution_count": 8,
   "metadata": {},
   "outputs": [
    {
     "name": "stdout",
     "output_type": "stream",
     "text": [
      "Ram 3\n",
      "Shyam 4\n",
      "Ravi 5\n",
      "Mohan 2\n"
     ]
    }
   ],
   "source": [
    "for name, score in zip(names, scores):\n",
    "    print(name, score)"
   ]
  },
  {
   "cell_type": "markdown",
   "metadata": {},
   "source": [
    "## 4. all and any\n",
    "\n",
    "![](https://i.imgflip.com/21cqld.jpg)\n",
    "\n",
    "- all\n",
    "\n",
    "Returns True if all elements of the iterable are true.\n",
    "\n",
    "- any\n",
    "\n",
    "Return True if any element of the iterable is true."
   ]
  },
  {
   "cell_type": "code",
   "execution_count": 10,
   "metadata": {},
   "outputs": [],
   "source": [
    "l = [True, False, True]"
   ]
  },
  {
   "cell_type": "code",
   "execution_count": 11,
   "metadata": {},
   "outputs": [],
   "source": [
    "res = True"
   ]
  },
  {
   "cell_type": "code",
   "execution_count": 12,
   "metadata": {},
   "outputs": [
    {
     "name": "stdout",
     "output_type": "stream",
     "text": [
      "False\n"
     ]
    }
   ],
   "source": [
    "for x in l:\n",
    "    if x == False:\n",
    "        res = False\n",
    "        break\n",
    "        \n",
    "print(res)"
   ]
  },
  {
   "cell_type": "code",
   "execution_count": 14,
   "metadata": {},
   "outputs": [
    {
     "name": "stdout",
     "output_type": "stream",
     "text": [
      "False\n"
     ]
    }
   ],
   "source": [
    "res = True\n",
    "if False in l:\n",
    "    res = False\n",
    "print(res)"
   ]
  },
  {
   "cell_type": "code",
   "execution_count": 15,
   "metadata": {},
   "outputs": [
    {
     "name": "stdout",
     "output_type": "stream",
     "text": [
      "True\n"
     ]
    }
   ],
   "source": [
    "res = False\n",
    "if True in l:\n",
    "    res = True\n",
    "print(res)"
   ]
  },
  {
   "cell_type": "code",
   "execution_count": 16,
   "metadata": {},
   "outputs": [
    {
     "data": {
      "text/plain": [
       "False"
      ]
     },
     "execution_count": 16,
     "metadata": {},
     "output_type": "execute_result"
    }
   ],
   "source": [
    "all(l)"
   ]
  },
  {
   "cell_type": "code",
   "execution_count": 17,
   "metadata": {},
   "outputs": [
    {
     "data": {
      "text/plain": [
       "True"
      ]
     },
     "execution_count": 17,
     "metadata": {},
     "output_type": "execute_result"
    }
   ],
   "source": [
    "any(l)"
   ]
  },
  {
   "cell_type": "markdown",
   "metadata": {},
   "source": [
    "## 5. globals and locals\n",
    "\n",
    "- **globals**\n",
    "\n",
    "    Return a dictionary representing the current global symbol table. \n",
    "    \n",
    "- **locals**\n",
    "\n",
    "    Return a dictionary representing the current local symbol table."
   ]
  },
  {
   "cell_type": "code",
   "execution_count": 19,
   "metadata": {},
   "outputs": [
    {
     "data": {
      "text/plain": [
       "{'__name__': '__main__',\n",
       " '__doc__': 'Automatically created module for IPython interactive environment',\n",
       " '__package__': None,\n",
       " '__loader__': None,\n",
       " '__spec__': None,\n",
       " '__builtin__': <module 'builtins' (built-in)>,\n",
       " '__builtins__': <module 'builtins' (built-in)>,\n",
       " '_ih': ['',\n",
       "  \"data = ['ram', 'ravi', 'hhh']\",\n",
       "  'for i in range(len(data)):\\n    print(i, data[i])',\n",
       "  'list(enumerate(data))',\n",
       "  'for idx, name in enumerate(data):\\n    print(idx, name)',\n",
       "  \"names = ['Ram', 'Shyam', 'Ravi', 'Mohan']\\nscores = [3,4,5,2]\",\n",
       "  'for i in range(len(names)):\\n    print(names[i], scores[i])',\n",
       "  'list(zip(names, scores))',\n",
       "  'for name, score in zip(names, scores):\\n    print(name, score)',\n",
       "  '[True, False, True]',\n",
       "  'l = [True, False, True]',\n",
       "  'res = True',\n",
       "  'for x in l:\\n    if x == False:\\n        res = False\\n        break\\n        \\nprint(res)',\n",
       "  '1 in l',\n",
       "  'res = True\\nif False in l:\\n    res = False\\nprint(res)',\n",
       "  'res = False\\nif True in l:\\n    res = True\\nprint(res)',\n",
       "  'all(l)',\n",
       "  'any(l)',\n",
       "  'globals()',\n",
       "  'locals()'],\n",
       " '_oh': {3: [(0, 'ram'), (1, 'ravi'), (2, 'hhh')],\n",
       "  7: [('Ram', 3), ('Shyam', 4), ('Ravi', 5), ('Mohan', 2)],\n",
       "  9: [True, False, True],\n",
       "  13: True,\n",
       "  16: False,\n",
       "  17: True,\n",
       "  18: {...}},\n",
       " '_dh': ['/home/nikhil/Desktop/Basics-of-Python'],\n",
       " 'In': ['',\n",
       "  \"data = ['ram', 'ravi', 'hhh']\",\n",
       "  'for i in range(len(data)):\\n    print(i, data[i])',\n",
       "  'list(enumerate(data))',\n",
       "  'for idx, name in enumerate(data):\\n    print(idx, name)',\n",
       "  \"names = ['Ram', 'Shyam', 'Ravi', 'Mohan']\\nscores = [3,4,5,2]\",\n",
       "  'for i in range(len(names)):\\n    print(names[i], scores[i])',\n",
       "  'list(zip(names, scores))',\n",
       "  'for name, score in zip(names, scores):\\n    print(name, score)',\n",
       "  '[True, False, True]',\n",
       "  'l = [True, False, True]',\n",
       "  'res = True',\n",
       "  'for x in l:\\n    if x == False:\\n        res = False\\n        break\\n        \\nprint(res)',\n",
       "  '1 in l',\n",
       "  'res = True\\nif False in l:\\n    res = False\\nprint(res)',\n",
       "  'res = False\\nif True in l:\\n    res = True\\nprint(res)',\n",
       "  'all(l)',\n",
       "  'any(l)',\n",
       "  'globals()',\n",
       "  'locals()'],\n",
       " 'Out': {3: [(0, 'ram'), (1, 'ravi'), (2, 'hhh')],\n",
       "  7: [('Ram', 3), ('Shyam', 4), ('Ravi', 5), ('Mohan', 2)],\n",
       "  9: [True, False, True],\n",
       "  13: True,\n",
       "  16: False,\n",
       "  17: True,\n",
       "  18: {...}},\n",
       " 'get_ipython': <bound method InteractiveShell.get_ipython of <ipykernel.zmqshell.ZMQInteractiveShell object at 0x7fafee093dd8>>,\n",
       " 'exit': <IPython.core.autocall.ZMQExitAutocall at 0x7fafec66a198>,\n",
       " 'quit': <IPython.core.autocall.ZMQExitAutocall at 0x7fafec66a198>,\n",
       " '_': {...},\n",
       " '__': True,\n",
       " '___': False,\n",
       " '_i': 'globals()',\n",
       " '_ii': 'any(l)',\n",
       " '_iii': 'all(l)',\n",
       " '_i1': \"data = ['ram', 'ravi', 'hhh']\",\n",
       " 'data': ['ram', 'ravi', 'hhh'],\n",
       " '_i2': 'for i in range(len(data)):\\n    print(i, data[i])',\n",
       " 'i': 3,\n",
       " '_i3': 'list(enumerate(data))',\n",
       " '_3': [(0, 'ram'), (1, 'ravi'), (2, 'hhh')],\n",
       " '_i4': 'for idx, name in enumerate(data):\\n    print(idx, name)',\n",
       " 'idx': 2,\n",
       " 'name': 'Mohan',\n",
       " '_i5': \"names = ['Ram', 'Shyam', 'Ravi', 'Mohan']\\nscores = [3,4,5,2]\",\n",
       " 'names': ['Ram', 'Shyam', 'Ravi', 'Mohan'],\n",
       " 'scores': [3, 4, 5, 2],\n",
       " '_i6': 'for i in range(len(names)):\\n    print(names[i], scores[i])',\n",
       " '_i7': 'list(zip(names, scores))',\n",
       " '_7': [('Ram', 3), ('Shyam', 4), ('Ravi', 5), ('Mohan', 2)],\n",
       " '_i8': 'for name, score in zip(names, scores):\\n    print(name, score)',\n",
       " 'score': 2,\n",
       " '_i9': '[True, False, True]',\n",
       " '_9': [True, False, True],\n",
       " '_i10': 'l = [True, False, True]',\n",
       " 'l': [True, False, True],\n",
       " '_i11': 'res = True',\n",
       " 'res': True,\n",
       " '_i12': 'for x in l:\\n    if x == False:\\n        res = False\\n        break\\n        \\nprint(res)',\n",
       " 'x': False,\n",
       " '_i13': '1 in l',\n",
       " '_13': True,\n",
       " '_i14': 'res = True\\nif False in l:\\n    res = False\\nprint(res)',\n",
       " '_i15': 'res = False\\nif True in l:\\n    res = True\\nprint(res)',\n",
       " '_i16': 'all(l)',\n",
       " '_16': False,\n",
       " '_i17': 'any(l)',\n",
       " '_17': True,\n",
       " '_i18': 'globals()',\n",
       " '_18': {...},\n",
       " '_i19': 'locals()'}"
      ]
     },
     "execution_count": 19,
     "metadata": {},
     "output_type": "execute_result"
    }
   ],
   "source": [
    "locals()"
   ]
  },
  {
   "cell_type": "code",
   "execution_count": 20,
   "metadata": {},
   "outputs": [],
   "source": [
    "def myfunc(a,b):\n",
    "    c=a+b\n",
    "    print(locals())\n",
    "    return c"
   ]
  },
  {
   "cell_type": "code",
   "execution_count": 22,
   "metadata": {},
   "outputs": [],
   "source": [
    "c = 10"
   ]
  },
  {
   "cell_type": "code",
   "execution_count": 23,
   "metadata": {},
   "outputs": [
    {
     "name": "stdout",
     "output_type": "stream",
     "text": [
      "{'c': 3, 'b': 2, 'a': 1}\n"
     ]
    },
    {
     "data": {
      "text/plain": [
       "3"
      ]
     },
     "execution_count": 23,
     "metadata": {},
     "output_type": "execute_result"
    }
   ],
   "source": [
    "myfunc(1,2)"
   ]
  },
  {
   "cell_type": "code",
   "execution_count": 24,
   "metadata": {},
   "outputs": [
    {
     "data": {
      "text/plain": [
       "10"
      ]
     },
     "execution_count": 24,
     "metadata": {},
     "output_type": "execute_result"
    }
   ],
   "source": [
    "c"
   ]
  },
  {
   "cell_type": "markdown",
   "metadata": {},
   "source": [
    "## 6. eval\n",
    "\n",
    "```python\n",
    "eval(expression, globals=None, locals=None)\n",
    "```\n",
    "\n",
    "The expression argument is parsed and evaluated as a Python expression using the globals and locals dictionaries as global and local namespace."
   ]
  },
  {
   "cell_type": "code",
   "execution_count": 25,
   "metadata": {},
   "outputs": [
    {
     "data": {
      "text/plain": [
       "3"
      ]
     },
     "execution_count": 25,
     "metadata": {},
     "output_type": "execute_result"
    }
   ],
   "source": [
    "1+2"
   ]
  },
  {
   "cell_type": "code",
   "execution_count": 29,
   "metadata": {},
   "outputs": [],
   "source": [
    "a = 0\n",
    "b = 1"
   ]
  },
  {
   "cell_type": "code",
   "execution_count": 30,
   "metadata": {},
   "outputs": [
    {
     "data": {
      "text/plain": [
       "1"
      ]
     },
     "execution_count": 30,
     "metadata": {},
     "output_type": "execute_result"
    }
   ],
   "source": [
    "eval(\"a+b\")"
   ]
  },
  {
   "cell_type": "markdown",
   "metadata": {},
   "source": [
    "## Other built-in functions can be found [here](https://docs.python.org/3/library/functions.html)"
   ]
  }
 ],
 "metadata": {
  "kernelspec": {
   "display_name": "Python 3",
   "language": "python",
   "name": "python3"
  },
  "language_info": {
   "codemirror_mode": {
    "name": "ipython",
    "version": 3
   },
   "file_extension": ".py",
   "mimetype": "text/x-python",
   "name": "python",
   "nbconvert_exporter": "python",
   "pygments_lexer": "ipython3",
   "version": "3.6.7"
  }
 },
 "nbformat": 4,
 "nbformat_minor": 2
}
