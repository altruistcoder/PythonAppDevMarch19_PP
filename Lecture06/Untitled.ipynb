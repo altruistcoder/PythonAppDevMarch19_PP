{
 "cells": [
  {
   "cell_type": "code",
   "execution_count": 1,
   "metadata": {},
   "outputs": [],
   "source": [
    "l = [\n",
    "    (1,2,3),\n",
    "    (4,5,6),\n",
    "    (7,8,9)\n",
    "]"
   ]
  },
  {
   "cell_type": "code",
   "execution_count": 2,
   "metadata": {},
   "outputs": [
    {
     "data": {
      "text/plain": [
       "(1, 2, 3)"
      ]
     },
     "execution_count": 2,
     "metadata": {},
     "output_type": "execute_result"
    }
   ],
   "source": [
    "l[0]"
   ]
  },
  {
   "cell_type": "code",
   "execution_count": 3,
   "metadata": {},
   "outputs": [
    {
     "data": {
      "text/plain": [
       "(4, 5, 6)"
      ]
     },
     "execution_count": 3,
     "metadata": {},
     "output_type": "execute_result"
    }
   ],
   "source": [
    "l[1]"
   ]
  },
  {
   "cell_type": "code",
   "execution_count": 4,
   "metadata": {},
   "outputs": [
    {
     "data": {
      "text/plain": [
       "(7, 8, 9)"
      ]
     },
     "execution_count": 4,
     "metadata": {},
     "output_type": "execute_result"
    }
   ],
   "source": [
    "l[2]"
   ]
  },
  {
   "cell_type": "code",
   "execution_count": 5,
   "metadata": {},
   "outputs": [],
   "source": [
    "def zippp(*l):\n",
    "    print(l)"
   ]
  },
  {
   "cell_type": "code",
   "execution_count": 6,
   "metadata": {},
   "outputs": [
    {
     "name": "stdout",
     "output_type": "stream",
     "text": [
      "((1, 2, 3), (4, 5, 6), (7, 8, 9))\n"
     ]
    }
   ],
   "source": [
    "zippp(*l)"
   ]
  },
  {
   "cell_type": "code",
   "execution_count": 7,
   "metadata": {},
   "outputs": [
    {
     "data": {
      "text/plain": [
       "[(1, 4, 7), (2, 5, 8), (3, 6, 9)]"
      ]
     },
     "execution_count": 7,
     "metadata": {},
     "output_type": "execute_result"
    }
   ],
   "source": [
    "list(zip(l[0], l[1], l[2]))"
   ]
  },
  {
   "cell_type": "code",
   "execution_count": 8,
   "metadata": {},
   "outputs": [
    {
     "data": {
      "text/plain": [
       "[(1, 4, 7), (2, 5, 8), (3, 6, 9)]"
      ]
     },
     "execution_count": 8,
     "metadata": {},
     "output_type": "execute_result"
    }
   ],
   "source": [
    "list(zip(*l))"
   ]
  },
  {
   "cell_type": "code",
   "execution_count": null,
   "metadata": {},
   "outputs": [],
   "source": []
  },
  {
   "cell_type": "code",
   "execution_count": null,
   "metadata": {},
   "outputs": [],
   "source": []
  },
  {
   "cell_type": "code",
   "execution_count": 9,
   "metadata": {},
   "outputs": [],
   "source": [
    "from collections import Counter"
   ]
  },
  {
   "cell_type": "code",
   "execution_count": 10,
   "metadata": {},
   "outputs": [],
   "source": [
    "with open(\"abc.txt\", 'w') as f:\n",
    "    f.write(\"hello hi how are you bye\")"
   ]
  },
  {
   "cell_type": "code",
   "execution_count": 11,
   "metadata": {},
   "outputs": [],
   "source": [
    "with open(\"abc.txt\", 'r') as f:\n",
    "    text = f.read()\n",
    "    \n",
    "words = text.split()\n",
    "freq = Counter(words)"
   ]
  },
  {
   "cell_type": "code",
   "execution_count": null,
   "metadata": {},
   "outputs": [],
   "source": []
  },
  {
   "cell_type": "code",
   "execution_count": 12,
   "metadata": {},
   "outputs": [],
   "source": [
    "from datetime import date, timedelta"
   ]
  },
  {
   "cell_type": "code",
   "execution_count": 13,
   "metadata": {},
   "outputs": [],
   "source": [
    "year = 2015"
   ]
  },
  {
   "cell_type": "code",
   "execution_count": 14,
   "metadata": {},
   "outputs": [],
   "source": [
    "first_day = date(year,1,1)\n",
    "first_sunday = first_day + timedelta(days=6-first_day.weekday())"
   ]
  },
  {
   "cell_type": "code",
   "execution_count": 15,
   "metadata": {},
   "outputs": [],
   "source": [
    "sunday_dates = [first_sunday]"
   ]
  },
  {
   "cell_type": "code",
   "execution_count": 16,
   "metadata": {},
   "outputs": [],
   "source": [
    "last_sunday = first_sunday\n",
    "while 1:\n",
    "    next_sunday = last_sunday + timedelta(days=7)\n",
    "    if next_sunday.year == year:\n",
    "        sunday_dates.append(next_sunday)\n",
    "        last_sunday = next_sunday\n",
    "    else:\n",
    "        break"
   ]
  },
  {
   "cell_type": "code",
   "execution_count": 17,
   "metadata": {},
   "outputs": [
    {
     "data": {
      "text/plain": [
       "[datetime.date(2015, 1, 4),\n",
       " datetime.date(2015, 1, 11),\n",
       " datetime.date(2015, 1, 18),\n",
       " datetime.date(2015, 1, 25),\n",
       " datetime.date(2015, 2, 1),\n",
       " datetime.date(2015, 2, 8),\n",
       " datetime.date(2015, 2, 15),\n",
       " datetime.date(2015, 2, 22),\n",
       " datetime.date(2015, 3, 1),\n",
       " datetime.date(2015, 3, 8),\n",
       " datetime.date(2015, 3, 15),\n",
       " datetime.date(2015, 3, 22),\n",
       " datetime.date(2015, 3, 29),\n",
       " datetime.date(2015, 4, 5),\n",
       " datetime.date(2015, 4, 12),\n",
       " datetime.date(2015, 4, 19),\n",
       " datetime.date(2015, 4, 26),\n",
       " datetime.date(2015, 5, 3),\n",
       " datetime.date(2015, 5, 10),\n",
       " datetime.date(2015, 5, 17),\n",
       " datetime.date(2015, 5, 24),\n",
       " datetime.date(2015, 5, 31),\n",
       " datetime.date(2015, 6, 7),\n",
       " datetime.date(2015, 6, 14),\n",
       " datetime.date(2015, 6, 21),\n",
       " datetime.date(2015, 6, 28),\n",
       " datetime.date(2015, 7, 5),\n",
       " datetime.date(2015, 7, 12),\n",
       " datetime.date(2015, 7, 19),\n",
       " datetime.date(2015, 7, 26),\n",
       " datetime.date(2015, 8, 2),\n",
       " datetime.date(2015, 8, 9),\n",
       " datetime.date(2015, 8, 16),\n",
       " datetime.date(2015, 8, 23),\n",
       " datetime.date(2015, 8, 30),\n",
       " datetime.date(2015, 9, 6),\n",
       " datetime.date(2015, 9, 13),\n",
       " datetime.date(2015, 9, 20),\n",
       " datetime.date(2015, 9, 27),\n",
       " datetime.date(2015, 10, 4),\n",
       " datetime.date(2015, 10, 11),\n",
       " datetime.date(2015, 10, 18),\n",
       " datetime.date(2015, 10, 25),\n",
       " datetime.date(2015, 11, 1),\n",
       " datetime.date(2015, 11, 8),\n",
       " datetime.date(2015, 11, 15),\n",
       " datetime.date(2015, 11, 22),\n",
       " datetime.date(2015, 11, 29),\n",
       " datetime.date(2015, 12, 6),\n",
       " datetime.date(2015, 12, 13),\n",
       " datetime.date(2015, 12, 20),\n",
       " datetime.date(2015, 12, 27)]"
      ]
     },
     "execution_count": 17,
     "metadata": {},
     "output_type": "execute_result"
    }
   ],
   "source": [
    "sunday_dates"
   ]
  },
  {
   "cell_type": "code",
   "execution_count": null,
   "metadata": {},
   "outputs": [],
   "source": []
  },
  {
   "cell_type": "code",
   "execution_count": null,
   "metadata": {},
   "outputs": [],
   "source": []
  },
  {
   "cell_type": "code",
   "execution_count": null,
   "metadata": {},
   "outputs": [],
   "source": []
  },
  {
   "cell_type": "code",
   "execution_count": null,
   "metadata": {},
   "outputs": [],
   "source": []
  },
  {
   "cell_type": "code",
   "execution_count": null,
   "metadata": {},
   "outputs": [],
   "source": []
  }
 ],
 "metadata": {
  "kernelspec": {
   "display_name": "Python 3",
   "language": "python",
   "name": "python3"
  },
  "language_info": {
   "codemirror_mode": {
    "name": "ipython",
    "version": 3
   },
   "file_extension": ".py",
   "mimetype": "text/x-python",
   "name": "python",
   "nbconvert_exporter": "python",
   "pygments_lexer": "ipython3",
   "version": "3.6.7"
  }
 },
 "nbformat": 4,
 "nbformat_minor": 2
}
