{
 "cells": [
  {
   "cell_type": "markdown",
   "metadata": {},
   "source": [
    "<h1><center>BASICS OF PYTHON</center></h1>\n",
    "![](https://ladmerc.files.wordpress.com/2015/05/learn-python.jpg)"
   ]
  },
  {
   "cell_type": "markdown",
   "metadata": {},
   "source": [
    "## Variables"
   ]
  },
  {
   "cell_type": "code",
   "execution_count": null,
   "metadata": {},
   "outputs": [],
   "source": []
  },
  {
   "cell_type": "markdown",
   "metadata": {},
   "source": [
    "- Which of the following are operators, and which are values?\n",
    "```\n",
    "*\n",
    "'hello'\n",
    "-88.8\n",
    "-\n",
    "/\n",
    "+\n",
    "5\n",
    "```\n",
    "\n",
    "\n",
    "- Which of the following is a variable, and which is a string?\n",
    "```\n",
    "spam\n",
    "'spam'\n",
    "```\n",
    "\n",
    "\n",
    "- Name three data types.\n",
    "\n",
    "\n",
    "- What is an expression made up of? What do all expressions do?\n",
    "\n",
    "\n",
    "- What is the difference between an expression and a statement?\n",
    "\n",
    "\n",
    "- What does the variable bacon contain after the following code runs?\n",
    "```\n",
    "bacon = 20\n",
    "bacon + 1\n",
    "```\n",
    "\n",
    "\n",
    "- What should the following two expressions evaluate to?\n",
    "```\n",
    "'spam' + 'spamspam'\n",
    "'spam' * 3\n",
    "```\n",
    "\n",
    "\n",
    "- Why is eggs a valid variable name while 100 is invalid?\n",
    "\n",
    "\n",
    "- What three functions can be used to get the integer, floating-point number, or string version of a value?\n",
    "\n",
    "\n",
    "- Why does this expression cause an error? How can you fix it?\n",
    "```\n",
    "'I have eaten ' + 99 + ' burritos.'\n",
    "```\n",
    "\n",
    "\n",
    "- What are the two values of the Boolean data type? How do you write them?\n",
    "\n",
    "\n",
    "- What are the three Boolean operators?\n",
    "\n",
    "\n",
    "- What are the six comparison operators?\n",
    "\n",
    "\n",
    "- What is the difference between the equal to operator and the assignment operator?\n",
    "\n",
    "\n",
    "- What do the following expressions evaluate to?\n",
    "```\n",
    "(5 > 4) and (3 == 5)\n",
    "not (5 > 4)\n",
    "(5 > 4) or (3 == 5)\n",
    "not ((5 > 4) or (3 == 5))\n",
    "(True and True) and (True == False)\n",
    "(not False) or (not True)\n",
    "```"
   ]
  },
  {
   "cell_type": "markdown",
   "metadata": {},
   "source": [
    "## Conditionals"
   ]
  },
  {
   "cell_type": "code",
   "execution_count": null,
   "metadata": {},
   "outputs": [],
   "source": []
  },
  {
   "cell_type": "markdown",
   "metadata": {},
   "source": [
    "- Identify the three blocks in this code:\n",
    "```\n",
    "spam = 0\n",
    "if spam == 10:\n",
    "    print('eggs')\n",
    "    if spam > 5:\n",
    "        print('bacon')\n",
    "    else:\n",
    "        print('ham')\n",
    "    print('spam')\n",
    "print('spam')\n",
    "```\n",
    "\n",
    "\n",
    "- Write code that prints `Hello` if 1 is stored in spam, prints `Howdy` if 2 is stored in spam, and prints `Greetings!` if anything else is stored in spam."
   ]
  },
  {
   "cell_type": "markdown",
   "metadata": {},
   "source": [
    "## Looping"
   ]
  },
  {
   "cell_type": "code",
   "execution_count": null,
   "metadata": {},
   "outputs": [],
   "source": []
  },
  {
   "cell_type": "markdown",
   "metadata": {},
   "source": [
    "- What can you press if your program is stuck in an infinite loop?\n",
    "\n",
    "\n",
    "- What is the difference between break and continue?\n",
    "\n",
    "\n",
    "- What is the difference between `range(10)`, `range(0, 10)`, and `range(0, 10, 1)` in a for loop?\n",
    "\n",
    "\n",
    "- Write a short program that prints the numbers 1 to 10 using a for loop. Then write an equivalent program that prints the numbers 1 to 10 using a while loop."
   ]
  },
  {
   "cell_type": "markdown",
   "metadata": {},
   "source": [
    "## Functions"
   ]
  },
  {
   "cell_type": "code",
   "execution_count": null,
   "metadata": {},
   "outputs": [],
   "source": []
  },
  {
   "cell_type": "markdown",
   "metadata": {},
   "source": [
    "- When does the code in a function execute: when the function is defined or when the function is called?\n",
    "\n",
    "\n",
    "- What statement creates a function?\n",
    "\n",
    "\n",
    "- What is the difference between a function and a function call?\n",
    "\n",
    "\n",
    "- How many global scopes are there in a Python program? How many local scopes?\n",
    "\n",
    "\n",
    "- What happens to variables in a local scope when the function call returns?\n",
    "\n",
    "\n",
    "- What is a return value? Can a return value be part of an expression?\n",
    "\n",
    "\n",
    "- If a function does not have a return statement, what is the return value of a call to that function?\n",
    "\n",
    "\n",
    "- How can you force a variable in a function to refer to the global variable?\n",
    "\n",
    "\n",
    "- What is the data type of None?\n",
    "\n",
    "\n",
    "- If you had a function named bacon() in a module named spam, how would you call it after importing spam?"
   ]
  },
  {
   "cell_type": "markdown",
   "metadata": {},
   "source": [
    "## Data structures"
   ]
  },
  {
   "cell_type": "code",
   "execution_count": null,
   "metadata": {},
   "outputs": [],
   "source": []
  },
  {
   "cell_type": "markdown",
   "metadata": {},
   "source": [
    "- What is `[]`?\n",
    "\n",
    "\n",
    "- How would you assign the value 'hello' as the third value in a list stored in a variable named spam? (Assume spam contains `[2, 4, 6, 8, 10]`.)\n",
    "\n",
    "\n",
    "- For the following three questions, let’s say spam contains the list `['a', 'b', 'c', 'd']`.\n",
    "    \n",
    "    - What does `spam[int(int('3' * 2) // 11)]` evaluate to?\n",
    "    \n",
    "    - What does `spam[-1]` evaluate to?\n",
    "    \n",
    "    - What does `spam[:2]` evaluate to?\n",
    "\n",
    "\n",
    "- For the following three questions, let’s say bacon contains the list `[3.14, 'cat', 11, 'cat', True]`.\n",
    "\n",
    "    - What does `bacon.index('cat')` evaluate to?\n",
    "\n",
    "    - What does `bacon.append(99)` make the list value in bacon look like?\n",
    "\n",
    "    - What does `bacon.remove('cat')` make the list value in bacon look like?\n",
    "\n",
    "\n",
    "- What are the operators for list concatenation and list replication?\n",
    "\n",
    "\n",
    "- What is the difference between the `append()` and `insert()` list methods?\n",
    "\n",
    "\n",
    "- What are two ways to remove values from a list?\n",
    "\n",
    "\n",
    "- What is the difference between lists and tuples?\n",
    "\n",
    "\n",
    "- How do you type the tuple value that has just the integer value `42` in it?\n",
    "\n",
    "\n",
    "- How can you get the tuple form of a list value? How can you get the list form of a tuple value?"
   ]
  },
  {
   "cell_type": "code",
   "execution_count": null,
   "metadata": {},
   "outputs": [],
   "source": []
  },
  {
   "cell_type": "markdown",
   "metadata": {},
   "source": [
    "- What does the code for an empty dictionary look like?\n",
    "\n",
    "\n",
    "- What happens if you try to access `spam['foo']` if spam is `{'bar': 100}`?\n",
    "\n",
    "\n",
    "- If a dictionary is stored in spam, what is the difference between the expressions 'cat' in spam and 'cat' in spam.keys()?\n",
    "\n",
    "\n",
    "- What is a shortcut for the following code?\n",
    "```python\n",
    "if 'color' not in spam:\n",
    "    spam['color'] = 'black'\n",
    "```"
   ]
  },
  {
   "cell_type": "markdown",
   "metadata": {},
   "source": [
    "## Importing modules"
   ]
  },
  {
   "cell_type": "code",
   "execution_count": null,
   "metadata": {},
   "outputs": [],
   "source": []
  },
  {
   "cell_type": "markdown",
   "metadata": {},
   "source": [
    "## File handling"
   ]
  },
  {
   "cell_type": "code",
   "execution_count": null,
   "metadata": {},
   "outputs": [],
   "source": []
  },
  {
   "cell_type": "markdown",
   "metadata": {},
   "source": [
    "![](https://i.pinimg.com/originals/51/fc/f1/51fcf1c55a37b5544ad6fe40f3765cf0.jpg)"
   ]
  }
 ],
 "metadata": {
  "kernelspec": {
   "display_name": "Python 3",
   "language": "python",
   "name": "python3"
  },
  "language_info": {
   "codemirror_mode": {
    "name": "ipython",
    "version": 3
   },
   "file_extension": ".py",
   "mimetype": "text/x-python",
   "name": "python",
   "nbconvert_exporter": "python",
   "pygments_lexer": "ipython3",
   "version": "3.6.5"
  }
 },
 "nbformat": 4,
 "nbformat_minor": 2
}
