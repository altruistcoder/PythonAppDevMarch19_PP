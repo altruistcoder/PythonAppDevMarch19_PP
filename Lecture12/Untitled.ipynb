{
 "cells": [
  {
   "cell_type": "code",
   "execution_count": 92,
   "metadata": {},
   "outputs": [],
   "source": [
    "from datetime import datetime, timedelta"
   ]
  },
  {
   "cell_type": "code",
   "execution_count": 113,
   "metadata": {},
   "outputs": [],
   "source": [
    "class Person:\n",
    "    def __init__(self, name, dob):\n",
    "        self.name = name\n",
    "        self.dob = datetime.strptime(dob, \"%Y-%m-%d\")\n",
    "        \n",
    "    @property\n",
    "    def age(self):\n",
    "        return datetime.now().year - self.dob.year"
   ]
  },
  {
   "cell_type": "code",
   "execution_count": 114,
   "metadata": {},
   "outputs": [],
   "source": [
    "p = Person(\"ram\", \"1968-01-01\")"
   ]
  },
  {
   "cell_type": "code",
   "execution_count": 119,
   "metadata": {},
   "outputs": [
    {
     "data": {
      "text/plain": [
       "3"
      ]
     },
     "execution_count": 119,
     "metadata": {},
     "output_type": "execute_result"
    }
   ],
   "source": [
    "p.age"
   ]
  },
  {
   "cell_type": "code",
   "execution_count": 118,
   "metadata": {},
   "outputs": [],
   "source": [
    "p.dob = datetime.now() - timedelta(days=1000)"
   ]
  },
  {
   "cell_type": "code",
   "execution_count": null,
   "metadata": {},
   "outputs": [],
   "source": []
  },
  {
   "cell_type": "code",
   "execution_count": null,
   "metadata": {},
   "outputs": [],
   "source": []
  },
  {
   "cell_type": "code",
   "execution_count": null,
   "metadata": {},
   "outputs": [],
   "source": []
  },
  {
   "cell_type": "code",
   "execution_count": 51,
   "metadata": {},
   "outputs": [],
   "source": [
    "import time"
   ]
  },
  {
   "cell_type": "code",
   "execution_count": 82,
   "metadata": {},
   "outputs": [],
   "source": [
    "def timer(func):\n",
    "    \n",
    "    def wrapper(*args, **kwargs):\n",
    "        start_time = time.time()*1000\n",
    "        \n",
    "        func(*args, **kwargs)\n",
    "\n",
    "        end_time = time.time()*1000\n",
    "        duration = int(end_time - start_time)\n",
    "        print(\"It took {}ms to run!\".format(duration))\n",
    "        \n",
    "    return wrapper"
   ]
  },
  {
   "cell_type": "code",
   "execution_count": 83,
   "metadata": {},
   "outputs": [],
   "source": [
    "@timer(b)\n",
    "def myfunc(a,b,c):\n",
    "    for x in range(10000000):\n",
    "        pass"
   ]
  },
  {
   "cell_type": "code",
   "execution_count": 84,
   "metadata": {},
   "outputs": [
    {
     "name": "stdout",
     "output_type": "stream",
     "text": [
      "It took 308ms to run!\n"
     ]
    }
   ],
   "source": [
    "myfunc(1,2,3)"
   ]
  },
  {
   "cell_type": "code",
   "execution_count": 49,
   "metadata": {},
   "outputs": [],
   "source": [
    "@decorate('*')\n",
    "def print_name(name):\n",
    "    print(name)"
   ]
  },
  {
   "cell_type": "code",
   "execution_count": 45,
   "metadata": {},
   "outputs": [],
   "source": [
    "def decorate(symbol):\n",
    "    def other_decorator(func):\n",
    "        def wrapper(text):\n",
    "            print(symbol*len(text))\n",
    "            func(text)\n",
    "            print(symbol*len(text))\n",
    "        return wrapper\n",
    "    return other_decorator"
   ]
  },
  {
   "cell_type": "code",
   "execution_count": 50,
   "metadata": {},
   "outputs": [
    {
     "name": "stdout",
     "output_type": "stream",
     "text": [
      "******\n",
      "nikhil\n",
      "******\n"
     ]
    }
   ],
   "source": [
    "print_name(\"nikhil\")"
   ]
  }
 ],
 "metadata": {
  "kernelspec": {
   "display_name": "Python 3",
   "language": "python",
   "name": "python3"
  },
  "language_info": {
   "codemirror_mode": {
    "name": "ipython",
    "version": 3
   },
   "file_extension": ".py",
   "mimetype": "text/x-python",
   "name": "python",
   "nbconvert_exporter": "python",
   "pygments_lexer": "ipython3",
   "version": "3.6.7"
  }
 },
 "nbformat": 4,
 "nbformat_minor": 2
}
