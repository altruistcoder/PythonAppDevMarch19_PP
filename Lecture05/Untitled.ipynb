{
 "cells": [
  {
   "cell_type": "code",
   "execution_count": 87,
   "metadata": {},
   "outputs": [],
   "source": [
    "import os"
   ]
  },
  {
   "cell_type": "code",
   "execution_count": 88,
   "metadata": {},
   "outputs": [
    {
     "data": {
      "text/plain": [
       "'/home/nikhil/Desktop/Basics-of-Python'"
      ]
     },
     "execution_count": 88,
     "metadata": {},
     "output_type": "execute_result"
    }
   ],
   "source": [
    "os.getcwd()"
   ]
  },
  {
   "cell_type": "code",
   "execution_count": 97,
   "metadata": {},
   "outputs": [],
   "source": [
    "os.rename('abc.py', '/home/nikhil/Desktop/Basics-of-Python/abc.py')"
   ]
  },
  {
   "cell_type": "code",
   "execution_count": 94,
   "metadata": {},
   "outputs": [
    {
     "data": {
      "text/plain": [
       "['.git',\n",
       " 'README.md',\n",
       " '9.BuiltIn-Functions.ipynb',\n",
       " '6. Modules.ipynb',\n",
       " '7. OOP.ipynb',\n",
       " '2. Operators and expressions.ipynb',\n",
       " '0. Intro.pdf',\n",
       " 'data.json',\n",
       " '.ipynb_checkpoints',\n",
       " '.gitignore',\n",
       " '8. File-Handling.ipynb',\n",
       " 'Untitled.ipynb',\n",
       " '5. Data structures.ipynb',\n",
       " 'data.txt',\n",
       " 'abc.txt',\n",
       " '1. Basics.ipynb',\n",
       " 'images',\n",
       " 'Epilogue.ipynb',\n",
       " '3. Control flow.ipynb',\n",
       " '4. Functions.ipynb']"
      ]
     },
     "execution_count": 94,
     "metadata": {},
     "output_type": "execute_result"
    }
   ],
   "source": [
    "os.listdir('/home/nikhil/Desktop/Basics-of-Python')"
   ]
  },
  {
   "cell_type": "code",
   "execution_count": 91,
   "metadata": {},
   "outputs": [],
   "source": [
    "os.chdir('/home/nikhil/Desktop/')"
   ]
  },
  {
   "cell_type": "code",
   "execution_count": 92,
   "metadata": {},
   "outputs": [
    {
     "data": {
      "text/plain": [
       "'/home/nikhil/Desktop'"
      ]
     },
     "execution_count": 92,
     "metadata": {},
     "output_type": "execute_result"
    }
   ],
   "source": [
    "os.getcwd()"
   ]
  },
  {
   "cell_type": "code",
   "execution_count": 93,
   "metadata": {},
   "outputs": [
    {
     "data": {
      "text/plain": [
       "['whatsappbot',\n",
       " 'network_programming_with_python',\n",
       " '.mypy_cache',\n",
       " 'abc.',\n",
       " 'Untitled1.ipynb',\n",
       " 'py-strings',\n",
       " 'test.py',\n",
       " 'PythonAppDevMar19PP',\n",
       " 'audio_analysis.ipynb',\n",
       " 'OLAP.ipynb',\n",
       " 'WhatsAppBotTut',\n",
       " 'discovering-hidden-apis',\n",
       " 'grep_help.txt',\n",
       " '__pycache__',\n",
       " 'mfds',\n",
       " 'Basics-of-Python',\n",
       " '.ipynb_checkpoints',\n",
       " 'esitmate-pi',\n",
       " 'def',\n",
       " 'Untitled.ipynb',\n",
       " 'adder.py',\n",
       " '.hidden',\n",
       " 'Flask.ipynb',\n",
       " 'Tutorial.ipynb']"
      ]
     },
     "execution_count": 93,
     "metadata": {},
     "output_type": "execute_result"
    }
   ],
   "source": [
    "os.listdir()"
   ]
  },
  {
   "cell_type": "code",
   "execution_count": 52,
   "metadata": {},
   "outputs": [],
   "source": [
    "n = 9"
   ]
  },
  {
   "cell_type": "code",
   "execution_count": 53,
   "metadata": {},
   "outputs": [
    {
     "name": "stdout",
     "output_type": "stream",
     "text": [
      "9 9 9 9 9 9 9 9 9 \n",
      "9 8 8 8 8 8 8 8 9 \n",
      "9 8 7 7 7 7 7 8 9 \n",
      "9 8 7 6 6 6 7 8 9 \n",
      "9 8 7 6 5 6 7 8 9 \n",
      "9 8 7 6 6 6 7 8 9 \n",
      "9 8 7 7 7 7 7 8 9 \n",
      "9 8 8 8 8 8 8 8 9 \n",
      "9 9 9 9 9 9 9 9 9 \n"
     ]
    }
   ],
   "source": [
    "for i in range(9):\n",
    "    for j in range(9):\n",
    "        print(max(n-i,n-j,i+1,j+1), end=' ')\n",
    "    print()"
   ]
  },
  {
   "cell_type": "code",
   "execution_count": null,
   "metadata": {},
   "outputs": [],
   "source": []
  },
  {
   "cell_type": "code",
   "execution_count": 54,
   "metadata": {},
   "outputs": [
    {
     "name": "stdout",
     "output_type": "stream",
     "text": [
      "sadf.sds.txt\n"
     ]
    }
   ],
   "source": [
    "filename = input()"
   ]
  },
  {
   "cell_type": "code",
   "execution_count": 57,
   "metadata": {},
   "outputs": [],
   "source": [
    "ext = filename.split('.')[-1]"
   ]
  },
  {
   "cell_type": "code",
   "execution_count": 58,
   "metadata": {},
   "outputs": [
    {
     "data": {
      "text/plain": [
       "'txt'"
      ]
     },
     "execution_count": 58,
     "metadata": {},
     "output_type": "execute_result"
    }
   ],
   "source": [
    "ext"
   ]
  },
  {
   "cell_type": "code",
   "execution_count": null,
   "metadata": {},
   "outputs": [],
   "source": []
  },
  {
   "cell_type": "code",
   "execution_count": null,
   "metadata": {},
   "outputs": [],
   "source": []
  },
  {
   "cell_type": "code",
   "execution_count": 59,
   "metadata": {},
   "outputs": [],
   "source": [
    "l = ['a', 'b', 'c', 'd']"
   ]
  },
  {
   "cell_type": "code",
   "execution_count": 60,
   "metadata": {},
   "outputs": [
    {
     "data": {
      "text/plain": [
       "'abcd'"
      ]
     },
     "execution_count": 60,
     "metadata": {},
     "output_type": "execute_result"
    }
   ],
   "source": [
    "\"\".join(l)"
   ]
  },
  {
   "cell_type": "code",
   "execution_count": 63,
   "metadata": {},
   "outputs": [
    {
     "data": {
      "text/plain": [
       "['a', 'b', 'c', 'd']"
      ]
     },
     "execution_count": 63,
     "metadata": {},
     "output_type": "execute_result"
    }
   ],
   "source": [
    "list(\"abcd\")"
   ]
  },
  {
   "cell_type": "code",
   "execution_count": null,
   "metadata": {},
   "outputs": [],
   "source": []
  },
  {
   "cell_type": "code",
   "execution_count": null,
   "metadata": {},
   "outputs": [],
   "source": []
  },
  {
   "cell_type": "code",
   "execution_count": 66,
   "metadata": {},
   "outputs": [],
   "source": [
    "seq = [1,1,2,3,4,5,7]"
   ]
  },
  {
   "cell_type": "code",
   "execution_count": 68,
   "metadata": {},
   "outputs": [
    {
     "name": "stdout",
     "output_type": "stream",
     "text": [
      "1 1\n",
      "1 2\n",
      "1 3\n",
      "1 4\n",
      "1 5\n",
      "1 7\n",
      "2 1\n",
      "2 2\n",
      "2 3\n",
      "2 4\n",
      "2 5\n",
      "2 7\n",
      "3 1\n",
      "3 2\n",
      "3 3\n",
      "3 4\n",
      "3 5\n",
      "3 7\n",
      "4 1\n",
      "4 2\n",
      "4 3\n",
      "4 4\n",
      "4 5\n",
      "4 7\n",
      "5 1\n",
      "5 2\n",
      "5 3\n",
      "5 4\n",
      "5 5\n",
      "5 7\n",
      "7 1\n",
      "7 2\n",
      "7 3\n",
      "7 4\n",
      "7 5\n",
      "7 7\n"
     ]
    }
   ],
   "source": [
    "for x in set(seq):\n",
    "    for y in set(seq):\n",
    "        print(x,y)"
   ]
  },
  {
   "cell_type": "code",
   "execution_count": 71,
   "metadata": {},
   "outputs": [],
   "source": [
    "seq = list(set([1,1,2,3,4,5]))"
   ]
  },
  {
   "cell_type": "code",
   "execution_count": 72,
   "metadata": {},
   "outputs": [
    {
     "name": "stdout",
     "output_type": "stream",
     "text": [
      "1 1\n",
      "1 2\n",
      "1 3\n",
      "1 4\n",
      "1 5\n",
      "2 2\n",
      "2 3\n",
      "2 4\n",
      "2 5\n",
      "3 3\n",
      "3 4\n",
      "3 5\n",
      "4 4\n",
      "4 5\n",
      "5 5\n"
     ]
    }
   ],
   "source": [
    "for i in range(len(seq)):\n",
    "    for j in range(i,len(seq)):\n",
    "        print(seq[i], seq[j])"
   ]
  },
  {
   "cell_type": "code",
   "execution_count": 75,
   "metadata": {},
   "outputs": [],
   "source": [
    "seq = [1,2,1,0,3,4,4]"
   ]
  },
  {
   "cell_type": "code",
   "execution_count": 79,
   "metadata": {},
   "outputs": [
    {
     "data": {
      "text/plain": [
       "3"
      ]
     },
     "execution_count": 79,
     "metadata": {},
     "output_type": "execute_result"
    }
   ],
   "source": [
    "sorted(list(set(seq)))[-2]"
   ]
  },
  {
   "cell_type": "code",
   "execution_count": null,
   "metadata": {},
   "outputs": [],
   "source": []
  },
  {
   "cell_type": "code",
   "execution_count": 84,
   "metadata": {},
   "outputs": [],
   "source": [
    "k = 4\n",
    "chars = ['a', 'b', 'c', 'd']"
   ]
  },
  {
   "cell_type": "code",
   "execution_count": 85,
   "metadata": {},
   "outputs": [],
   "source": [
    "def generate_str(s):\n",
    "    if len(s) == k:\n",
    "        print(s)\n",
    "        return\n",
    "    \n",
    "    for char in chars:\n",
    "        generate_str(s+char)"
   ]
  },
  {
   "cell_type": "code",
   "execution_count": 86,
   "metadata": {},
   "outputs": [
    {
     "name": "stdout",
     "output_type": "stream",
     "text": [
      "aaaa\n",
      "aaab\n",
      "aaac\n",
      "aaad\n",
      "aaba\n",
      "aabb\n",
      "aabc\n",
      "aabd\n",
      "aaca\n",
      "aacb\n",
      "aacc\n",
      "aacd\n",
      "aada\n",
      "aadb\n",
      "aadc\n",
      "aadd\n",
      "abaa\n",
      "abab\n",
      "abac\n",
      "abad\n",
      "abba\n",
      "abbb\n",
      "abbc\n",
      "abbd\n",
      "abca\n",
      "abcb\n",
      "abcc\n",
      "abcd\n",
      "abda\n",
      "abdb\n",
      "abdc\n",
      "abdd\n",
      "acaa\n",
      "acab\n",
      "acac\n",
      "acad\n",
      "acba\n",
      "acbb\n",
      "acbc\n",
      "acbd\n",
      "acca\n",
      "accb\n",
      "accc\n",
      "accd\n",
      "acda\n",
      "acdb\n",
      "acdc\n",
      "acdd\n",
      "adaa\n",
      "adab\n",
      "adac\n",
      "adad\n",
      "adba\n",
      "adbb\n",
      "adbc\n",
      "adbd\n",
      "adca\n",
      "adcb\n",
      "adcc\n",
      "adcd\n",
      "adda\n",
      "addb\n",
      "addc\n",
      "addd\n",
      "baaa\n",
      "baab\n",
      "baac\n",
      "baad\n",
      "baba\n",
      "babb\n",
      "babc\n",
      "babd\n",
      "baca\n",
      "bacb\n",
      "bacc\n",
      "bacd\n",
      "bada\n",
      "badb\n",
      "badc\n",
      "badd\n",
      "bbaa\n",
      "bbab\n",
      "bbac\n",
      "bbad\n",
      "bbba\n",
      "bbbb\n",
      "bbbc\n",
      "bbbd\n",
      "bbca\n",
      "bbcb\n",
      "bbcc\n",
      "bbcd\n",
      "bbda\n",
      "bbdb\n",
      "bbdc\n",
      "bbdd\n",
      "bcaa\n",
      "bcab\n",
      "bcac\n",
      "bcad\n",
      "bcba\n",
      "bcbb\n",
      "bcbc\n",
      "bcbd\n",
      "bcca\n",
      "bccb\n",
      "bccc\n",
      "bccd\n",
      "bcda\n",
      "bcdb\n",
      "bcdc\n",
      "bcdd\n",
      "bdaa\n",
      "bdab\n",
      "bdac\n",
      "bdad\n",
      "bdba\n",
      "bdbb\n",
      "bdbc\n",
      "bdbd\n",
      "bdca\n",
      "bdcb\n",
      "bdcc\n",
      "bdcd\n",
      "bdda\n",
      "bddb\n",
      "bddc\n",
      "bddd\n",
      "caaa\n",
      "caab\n",
      "caac\n",
      "caad\n",
      "caba\n",
      "cabb\n",
      "cabc\n",
      "cabd\n",
      "caca\n",
      "cacb\n",
      "cacc\n",
      "cacd\n",
      "cada\n",
      "cadb\n",
      "cadc\n",
      "cadd\n",
      "cbaa\n",
      "cbab\n",
      "cbac\n",
      "cbad\n",
      "cbba\n",
      "cbbb\n",
      "cbbc\n",
      "cbbd\n",
      "cbca\n",
      "cbcb\n",
      "cbcc\n",
      "cbcd\n",
      "cbda\n",
      "cbdb\n",
      "cbdc\n",
      "cbdd\n",
      "ccaa\n",
      "ccab\n",
      "ccac\n",
      "ccad\n",
      "ccba\n",
      "ccbb\n",
      "ccbc\n",
      "ccbd\n",
      "ccca\n",
      "cccb\n",
      "cccc\n",
      "cccd\n",
      "ccda\n",
      "ccdb\n",
      "ccdc\n",
      "ccdd\n",
      "cdaa\n",
      "cdab\n",
      "cdac\n",
      "cdad\n",
      "cdba\n",
      "cdbb\n",
      "cdbc\n",
      "cdbd\n",
      "cdca\n",
      "cdcb\n",
      "cdcc\n",
      "cdcd\n",
      "cdda\n",
      "cddb\n",
      "cddc\n",
      "cddd\n",
      "daaa\n",
      "daab\n",
      "daac\n",
      "daad\n",
      "daba\n",
      "dabb\n",
      "dabc\n",
      "dabd\n",
      "daca\n",
      "dacb\n",
      "dacc\n",
      "dacd\n",
      "dada\n",
      "dadb\n",
      "dadc\n",
      "dadd\n",
      "dbaa\n",
      "dbab\n",
      "dbac\n",
      "dbad\n",
      "dbba\n",
      "dbbb\n",
      "dbbc\n",
      "dbbd\n",
      "dbca\n",
      "dbcb\n",
      "dbcc\n",
      "dbcd\n",
      "dbda\n",
      "dbdb\n",
      "dbdc\n",
      "dbdd\n",
      "dcaa\n",
      "dcab\n",
      "dcac\n",
      "dcad\n",
      "dcba\n",
      "dcbb\n",
      "dcbc\n",
      "dcbd\n",
      "dcca\n",
      "dccb\n",
      "dccc\n",
      "dccd\n",
      "dcda\n",
      "dcdb\n",
      "dcdc\n",
      "dcdd\n",
      "ddaa\n",
      "ddab\n",
      "ddac\n",
      "ddad\n",
      "ddba\n",
      "ddbb\n",
      "ddbc\n",
      "ddbd\n",
      "ddca\n",
      "ddcb\n",
      "ddcc\n",
      "ddcd\n",
      "ddda\n",
      "dddb\n",
      "dddc\n",
      "dddd\n"
     ]
    }
   ],
   "source": [
    "generate_str('')"
   ]
  }
 ],
 "metadata": {
  "kernelspec": {
   "display_name": "Python 3",
   "language": "python",
   "name": "python3"
  },
  "language_info": {
   "codemirror_mode": {
    "name": "ipython",
    "version": 3
   },
   "file_extension": ".py",
   "mimetype": "text/x-python",
   "name": "python",
   "nbconvert_exporter": "python",
   "pygments_lexer": "ipython3",
   "version": "3.6.7"
  }
 },
 "nbformat": 4,
 "nbformat_minor": 2
}
